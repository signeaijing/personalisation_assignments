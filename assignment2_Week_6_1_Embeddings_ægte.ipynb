{
  "cells": [
    {
      "cell_type": "code",
      "execution_count": null,
      "metadata": {
        "id": "i2gA-6o8mG9X"
      },
      "outputs": [],
      "source": [
        "#Adapted from the Keras Example https://keras.io/examples/structured_data/collaborative_filtering_movielens/"
      ]
    },
    {
      "cell_type": "code",
      "execution_count": null,
      "metadata": {
        "id": "u4nG2nlgmG9b"
      },
      "outputs": [],
      "source": [
        "import pandas as pd\n",
        "import numpy as np\n",
        "from pathlib import Path\n",
        "import matplotlib.pyplot as plt"
      ]
    },
    {
      "cell_type": "markdown",
      "metadata": {
        "id": "uhF-mKWimG9c"
      },
      "source": [
        "# Week 6.1- Embeddings for Recommendation\n",
        "\n",
        "Here we'll see how to train our simple **Dot Product** model, along with our **user embeddings** and **item embeddings** using the **Keras** library. As before, we'll be checking out the **MovieLens** dataset\n",
        "\n",
        "## Loading in the Dataset\n",
        "\n",
        "First we load in the small version of the dataset. As this is a **Collaborative Filtering** approach, we are interested in the **ratings.csv**, which has all over ratings made by each user."
      ]
    },
    {
      "cell_type": "code",
      "execution_count": null,
      "metadata": {
        "id": "qjXbX4OdmG9f"
      },
      "outputs": [],
      "source": [
        "#df = pd.read_csv(\"ml-latest-small/ratings.csv\")\n",
        "df = pd.read_csv('ratings.csv')"
      ]
    },
    {
      "cell_type": "code",
      "execution_count": null,
      "metadata": {
        "colab": {
          "base_uri": "https://localhost:8080/"
        },
        "id": "RD_cearVmG9f",
        "outputId": "3762ff90-3f12-4f83-85ae-214f12a00a70"
      },
      "outputs": [
        {
          "output_type": "execute_result",
          "data": {
            "text/plain": [
              "100004"
            ]
          },
          "metadata": {},
          "execution_count": 4
        }
      ],
      "source": [
        "len(df)"
      ]
    },
    {
      "cell_type": "code",
      "execution_count": null,
      "metadata": {
        "colab": {
          "base_uri": "https://localhost:8080/",
          "height": 424
        },
        "id": "0uWLBr77mG9h",
        "outputId": "c985ebbd-ee26-4e47-d982-10c552ece838"
      },
      "outputs": [
        {
          "output_type": "execute_result",
          "data": {
            "text/plain": [
              "        userId  movieId  rating   timestamp\n",
              "99904      671      590     4.0  1065149296\n",
              "99905      671      608     4.0  1064890575\n",
              "99906      671      745     4.0  1065149085\n",
              "99907      671      919     4.0  1065149458\n",
              "99908      671     1035     5.0  1065149492\n",
              "...        ...      ...     ...         ...\n",
              "99999      671     6268     2.5  1065579370\n",
              "100000     671     6269     4.0  1065149201\n",
              "100001     671     6365     4.0  1070940363\n",
              "100002     671     6385     2.5  1070979663\n",
              "100003     671     6565     3.5  1074784724\n",
              "\n",
              "[100 rows x 4 columns]"
            ],
            "text/html": [
              "\n",
              "  <div id=\"df-5538b504-b78a-4ecc-8d03-00bcb3bd941f\">\n",
              "    <div class=\"colab-df-container\">\n",
              "      <div>\n",
              "<style scoped>\n",
              "    .dataframe tbody tr th:only-of-type {\n",
              "        vertical-align: middle;\n",
              "    }\n",
              "\n",
              "    .dataframe tbody tr th {\n",
              "        vertical-align: top;\n",
              "    }\n",
              "\n",
              "    .dataframe thead th {\n",
              "        text-align: right;\n",
              "    }\n",
              "</style>\n",
              "<table border=\"1\" class=\"dataframe\">\n",
              "  <thead>\n",
              "    <tr style=\"text-align: right;\">\n",
              "      <th></th>\n",
              "      <th>userId</th>\n",
              "      <th>movieId</th>\n",
              "      <th>rating</th>\n",
              "      <th>timestamp</th>\n",
              "    </tr>\n",
              "  </thead>\n",
              "  <tbody>\n",
              "    <tr>\n",
              "      <th>99904</th>\n",
              "      <td>671</td>\n",
              "      <td>590</td>\n",
              "      <td>4.0</td>\n",
              "      <td>1065149296</td>\n",
              "    </tr>\n",
              "    <tr>\n",
              "      <th>99905</th>\n",
              "      <td>671</td>\n",
              "      <td>608</td>\n",
              "      <td>4.0</td>\n",
              "      <td>1064890575</td>\n",
              "    </tr>\n",
              "    <tr>\n",
              "      <th>99906</th>\n",
              "      <td>671</td>\n",
              "      <td>745</td>\n",
              "      <td>4.0</td>\n",
              "      <td>1065149085</td>\n",
              "    </tr>\n",
              "    <tr>\n",
              "      <th>99907</th>\n",
              "      <td>671</td>\n",
              "      <td>919</td>\n",
              "      <td>4.0</td>\n",
              "      <td>1065149458</td>\n",
              "    </tr>\n",
              "    <tr>\n",
              "      <th>99908</th>\n",
              "      <td>671</td>\n",
              "      <td>1035</td>\n",
              "      <td>5.0</td>\n",
              "      <td>1065149492</td>\n",
              "    </tr>\n",
              "    <tr>\n",
              "      <th>...</th>\n",
              "      <td>...</td>\n",
              "      <td>...</td>\n",
              "      <td>...</td>\n",
              "      <td>...</td>\n",
              "    </tr>\n",
              "    <tr>\n",
              "      <th>99999</th>\n",
              "      <td>671</td>\n",
              "      <td>6268</td>\n",
              "      <td>2.5</td>\n",
              "      <td>1065579370</td>\n",
              "    </tr>\n",
              "    <tr>\n",
              "      <th>100000</th>\n",
              "      <td>671</td>\n",
              "      <td>6269</td>\n",
              "      <td>4.0</td>\n",
              "      <td>1065149201</td>\n",
              "    </tr>\n",
              "    <tr>\n",
              "      <th>100001</th>\n",
              "      <td>671</td>\n",
              "      <td>6365</td>\n",
              "      <td>4.0</td>\n",
              "      <td>1070940363</td>\n",
              "    </tr>\n",
              "    <tr>\n",
              "      <th>100002</th>\n",
              "      <td>671</td>\n",
              "      <td>6385</td>\n",
              "      <td>2.5</td>\n",
              "      <td>1070979663</td>\n",
              "    </tr>\n",
              "    <tr>\n",
              "      <th>100003</th>\n",
              "      <td>671</td>\n",
              "      <td>6565</td>\n",
              "      <td>3.5</td>\n",
              "      <td>1074784724</td>\n",
              "    </tr>\n",
              "  </tbody>\n",
              "</table>\n",
              "<p>100 rows × 4 columns</p>\n",
              "</div>\n",
              "      <button class=\"colab-df-convert\" onclick=\"convertToInteractive('df-5538b504-b78a-4ecc-8d03-00bcb3bd941f')\"\n",
              "              title=\"Convert this dataframe to an interactive table.\"\n",
              "              style=\"display:none;\">\n",
              "        \n",
              "  <svg xmlns=\"http://www.w3.org/2000/svg\" height=\"24px\"viewBox=\"0 0 24 24\"\n",
              "       width=\"24px\">\n",
              "    <path d=\"M0 0h24v24H0V0z\" fill=\"none\"/>\n",
              "    <path d=\"M18.56 5.44l.94 2.06.94-2.06 2.06-.94-2.06-.94-.94-2.06-.94 2.06-2.06.94zm-11 1L8.5 8.5l.94-2.06 2.06-.94-2.06-.94L8.5 2.5l-.94 2.06-2.06.94zm10 10l.94 2.06.94-2.06 2.06-.94-2.06-.94-.94-2.06-.94 2.06-2.06.94z\"/><path d=\"M17.41 7.96l-1.37-1.37c-.4-.4-.92-.59-1.43-.59-.52 0-1.04.2-1.43.59L10.3 9.45l-7.72 7.72c-.78.78-.78 2.05 0 2.83L4 21.41c.39.39.9.59 1.41.59.51 0 1.02-.2 1.41-.59l7.78-7.78 2.81-2.81c.8-.78.8-2.07 0-2.86zM5.41 20L4 18.59l7.72-7.72 1.47 1.35L5.41 20z\"/>\n",
              "  </svg>\n",
              "      </button>\n",
              "      \n",
              "  <style>\n",
              "    .colab-df-container {\n",
              "      display:flex;\n",
              "      flex-wrap:wrap;\n",
              "      gap: 12px;\n",
              "    }\n",
              "\n",
              "    .colab-df-convert {\n",
              "      background-color: #E8F0FE;\n",
              "      border: none;\n",
              "      border-radius: 50%;\n",
              "      cursor: pointer;\n",
              "      display: none;\n",
              "      fill: #1967D2;\n",
              "      height: 32px;\n",
              "      padding: 0 0 0 0;\n",
              "      width: 32px;\n",
              "    }\n",
              "\n",
              "    .colab-df-convert:hover {\n",
              "      background-color: #E2EBFA;\n",
              "      box-shadow: 0px 1px 2px rgba(60, 64, 67, 0.3), 0px 1px 3px 1px rgba(60, 64, 67, 0.15);\n",
              "      fill: #174EA6;\n",
              "    }\n",
              "\n",
              "    [theme=dark] .colab-df-convert {\n",
              "      background-color: #3B4455;\n",
              "      fill: #D2E3FC;\n",
              "    }\n",
              "\n",
              "    [theme=dark] .colab-df-convert:hover {\n",
              "      background-color: #434B5C;\n",
              "      box-shadow: 0px 1px 3px 1px rgba(0, 0, 0, 0.15);\n",
              "      filter: drop-shadow(0px 1px 2px rgba(0, 0, 0, 0.3));\n",
              "      fill: #FFFFFF;\n",
              "    }\n",
              "  </style>\n",
              "\n",
              "      <script>\n",
              "        const buttonEl =\n",
              "          document.querySelector('#df-5538b504-b78a-4ecc-8d03-00bcb3bd941f button.colab-df-convert');\n",
              "        buttonEl.style.display =\n",
              "          google.colab.kernel.accessAllowed ? 'block' : 'none';\n",
              "\n",
              "        async function convertToInteractive(key) {\n",
              "          const element = document.querySelector('#df-5538b504-b78a-4ecc-8d03-00bcb3bd941f');\n",
              "          const dataTable =\n",
              "            await google.colab.kernel.invokeFunction('convertToInteractive',\n",
              "                                                     [key], {});\n",
              "          if (!dataTable) return;\n",
              "\n",
              "          const docLinkHtml = 'Like what you see? Visit the ' +\n",
              "            '<a target=\"_blank\" href=https://colab.research.google.com/notebooks/data_table.ipynb>data table notebook</a>'\n",
              "            + ' to learn more about interactive tables.';\n",
              "          element.innerHTML = '';\n",
              "          dataTable['output_type'] = 'display_data';\n",
              "          await google.colab.output.renderOutput(dataTable, element);\n",
              "          const docLink = document.createElement('div');\n",
              "          docLink.innerHTML = docLinkHtml;\n",
              "          element.appendChild(docLink);\n",
              "        }\n",
              "      </script>\n",
              "    </div>\n",
              "  </div>\n",
              "  "
            ]
          },
          "metadata": {},
          "execution_count": 5
        }
      ],
      "source": [
        "df.tail(100)\n",
        "# user id doesn't start at 0 so not continous."
      ]
    },
    {
      "cell_type": "markdown",
      "metadata": {
        "id": "NZzPWCMEmG9h"
      },
      "source": [
        "## Preprocessing\n",
        "\n",
        "What we have in the dataset is a list of **userId** and **movieId** pairs loaded into a ``Pandas`` DataFrame.\n",
        "\n",
        "As we said before, you can think of an embedding layer as a **one-hot encoding** layer the size of your **vocabulary**, followed by a **fully connected layer** the size of your embedding.\n",
        "\n",
        "When we make the embedding, we will need a way of mapping back from **indexes** in the **one-hot encoding** back to the ids for the users and movies.\n",
        "\n",
        "### Vocabulary\n",
        "\n",
        "In order to make the vocabulary (all the unique ids), we can use the ``unique()`` function in ``Pandas``"
      ]
    },
    {
      "cell_type": "code",
      "execution_count": null,
      "metadata": {
        "id": "AFulDTU4mG9i"
      },
      "outputs": [],
      "source": [
        "user_ids = df[\"userId\"].unique().tolist()\n",
        "movie_ids = df[\"movieId\"].unique().tolist()\n",
        "\n",
        "# a vocabulary is the unique items and users -> all the unique values in the dataset, det vi har at arbejde med."
      ]
    },
    {
      "cell_type": "code",
      "execution_count": null,
      "metadata": {
        "colab": {
          "base_uri": "https://localhost:8080/"
        },
        "id": "23hXmNiqmG9i",
        "outputId": "05afaff9-5156-4506-e938-9dc1f77cf62a"
      },
      "outputs": [
        {
          "output_type": "execute_result",
          "data": {
            "text/plain": [
              "9066"
            ]
          },
          "metadata": {},
          "execution_count": 7
        }
      ],
      "source": [
        "len(movie_ids)\n"
      ]
    },
    {
      "cell_type": "code",
      "execution_count": null,
      "metadata": {
        "colab": {
          "base_uri": "https://localhost:8080/"
        },
        "id": "dUA7urypmG9j",
        "outputId": "8ac3ae5c-3b87-4e34-adc0-06e2dab02728"
      },
      "outputs": [
        {
          "output_type": "stream",
          "name": "stdout",
          "text": [
            "[31, 1029, 1061, 1129, 1172, 1263]\n",
            "[1, 2, 3, 4, 5, 6]\n",
            "<class 'list'>\n"
          ]
        }
      ],
      "source": [
        "#Non-sequential list of ids\n",
        "print(movie_ids[:6])\n",
        "print(user_ids[:6])\n",
        "print(type(user_ids))"
      ]
    },
    {
      "cell_type": "markdown",
      "metadata": {
        "id": "9SmN9YTzmG9k"
      },
      "source": [
        "### Dictionary Comprehensions\n",
        "\n",
        "We've seen ``Dictionaries`` (e.g. when looking at JSON from REST APIs). This is a collection like a ``List``, but instead of using indexes to access data (**values**), we use **keys**.\n",
        "\n",
        "We've also seen ``List Comprehensions``, a short hand way to iterate through an existing collection and make a new ``List``.\n",
        "\n",
        "As we want something where we can use an arbitrary string/number (e.g. a movie or user id) to look up an index, a ``Dictionary`` seems like a good data structure to use. We can declare dictionaries manually (see below), but it would be much quicker and cleaner to use the information we already have to make this.\n"
      ]
    },
    {
      "cell_type": "code",
      "execution_count": null,
      "metadata": {
        "colab": {
          "base_uri": "https://localhost:8080/"
        },
        "id": "MCMm1M-9mG9k",
        "outputId": "f15a055c-30ac-469b-ecca-1827a6f2e869"
      },
      "outputs": [
        {
          "output_type": "execute_result",
          "data": {
            "text/plain": [
              "1"
            ]
          },
          "metadata": {},
          "execution_count": 9
        }
      ],
      "source": [
        "#Manually making the dictionary\n",
        "movie_id_to_index = {\n",
        "    31: 1,\n",
        "    1029: 2,\n",
        "    1061: 3\n",
        "}\n",
        "#Use a movie id to look up an index\n",
        "movie_id_to_index[31]\n",
        "\n",
        "\n",
        "# skal vi finde en måde at gøre det her på automatisk  -> use dict"
      ]
    },
    {
      "cell_type": "markdown",
      "metadata": {
        "id": "F1d9bp4rmG9l"
      },
      "source": [
        "Like the ``List Comprehension``, the ``Dictionary Comprehension`` iterates through a given collection, does some calculation and stores new values in a new collection.\n",
        "\n",
        "In this case, we need to return both a ``Key`` and a ``Value`` for each item.\n",
        "\n",
        "```\n",
        "a = [1,2,3]\n",
        "b = {i:i+1 for i in a}\n",
        "```\n",
        "\n",
        "is the same as\n",
        "\n",
        "```\n",
        "a = [1,2,3]\n",
        "b = {}\n",
        "for i in a:\n",
        "    b[i] = i+1\n",
        "```\n",
        "\n",
        "where we end up with the ``Dictionary``\n",
        "\n",
        "```\n",
        "{\n",
        "    1: 2,\n",
        "    2: 3,\n",
        "    3: 4\n",
        "}\n",
        "```\n",
        "\n",
        "Below, we combine the dictionary comprehension with the ``enumerate()`` function to return the id (x) and the index (i) and store them in a new dictionary"
      ]
    },
    {
      "cell_type": "code",
      "execution_count": null,
      "metadata": {
        "id": "8hmqEaVRmG9l"
      },
      "outputs": [],
      "source": [
        "#Make a dictionary mapping ids (keys) to indexes (values)\n",
        "user_id_to_index = {x: i for i, x in enumerate(user_ids)}\n",
        "movie_id_to_index = {x: i for i, x in enumerate(movie_ids)}"
      ]
    },
    {
      "cell_type": "code",
      "execution_count": null,
      "metadata": {
        "id": "eDcm8E14mG9m"
      },
      "outputs": [],
      "source": [
        "#Make a new column in the dataframe which contains the appropriate index for each user and movie\n",
        "df[\"user_index\"] = [user_id_to_index[i] for i in df[\"userId\"]]\n",
        "df[\"movie_index\"] = [movie_id_to_index[i] for i in df[\"movieId\"]]"
      ]
    },
    {
      "cell_type": "code",
      "execution_count": null,
      "metadata": {
        "id": "hVBQzyM0mG9m"
      },
      "outputs": [],
      "source": [
        "# to avoid error: Could not infer dtype of Embedding, fill in missing data and convert to int\n",
        "#df[\"user_index\"] = df[\"user_index\"].str.strip().astype(str).astype(int)\n",
        "#df[\"movie_index\"] = df[\"movie_index\"].str.strip().astype(str).astype(int)"
      ]
    },
    {
      "cell_type": "code",
      "execution_count": null,
      "metadata": {
        "colab": {
          "base_uri": "https://localhost:8080/",
          "height": 424
        },
        "id": "X3OlfrxCmG9n",
        "outputId": "c73d3719-2e41-4b97-ed09-ccbd738261b3"
      },
      "outputs": [
        {
          "output_type": "execute_result",
          "data": {
            "text/plain": [
              "     userId  movieId  rating   timestamp  user_index  movie_index\n",
              "0         1       31     2.5  1260759144           0            0\n",
              "1         1     1029     3.0  1260759179           0            1\n",
              "2         1     1061     3.0  1260759182           0            2\n",
              "3         1     1129     2.0  1260759185           0            3\n",
              "4         1     1172     4.0  1260759205           0            4\n",
              "..      ...      ...     ...         ...         ...          ...\n",
              "995      15      125     3.5  1245362506          14          666\n",
              "996      15      145     3.5  1134521543          14          667\n",
              "997      15      149     5.0  1075142933          14          668\n",
              "998      15      150     3.0   997939380          14           29\n",
              "999      15      153     1.0  1128274517          14           30\n",
              "\n",
              "[1000 rows x 6 columns]"
            ],
            "text/html": [
              "\n",
              "  <div id=\"df-2d504192-1256-4e41-ae9e-82bbe7b0eb49\">\n",
              "    <div class=\"colab-df-container\">\n",
              "      <div>\n",
              "<style scoped>\n",
              "    .dataframe tbody tr th:only-of-type {\n",
              "        vertical-align: middle;\n",
              "    }\n",
              "\n",
              "    .dataframe tbody tr th {\n",
              "        vertical-align: top;\n",
              "    }\n",
              "\n",
              "    .dataframe thead th {\n",
              "        text-align: right;\n",
              "    }\n",
              "</style>\n",
              "<table border=\"1\" class=\"dataframe\">\n",
              "  <thead>\n",
              "    <tr style=\"text-align: right;\">\n",
              "      <th></th>\n",
              "      <th>userId</th>\n",
              "      <th>movieId</th>\n",
              "      <th>rating</th>\n",
              "      <th>timestamp</th>\n",
              "      <th>user_index</th>\n",
              "      <th>movie_index</th>\n",
              "    </tr>\n",
              "  </thead>\n",
              "  <tbody>\n",
              "    <tr>\n",
              "      <th>0</th>\n",
              "      <td>1</td>\n",
              "      <td>31</td>\n",
              "      <td>2.5</td>\n",
              "      <td>1260759144</td>\n",
              "      <td>0</td>\n",
              "      <td>0</td>\n",
              "    </tr>\n",
              "    <tr>\n",
              "      <th>1</th>\n",
              "      <td>1</td>\n",
              "      <td>1029</td>\n",
              "      <td>3.0</td>\n",
              "      <td>1260759179</td>\n",
              "      <td>0</td>\n",
              "      <td>1</td>\n",
              "    </tr>\n",
              "    <tr>\n",
              "      <th>2</th>\n",
              "      <td>1</td>\n",
              "      <td>1061</td>\n",
              "      <td>3.0</td>\n",
              "      <td>1260759182</td>\n",
              "      <td>0</td>\n",
              "      <td>2</td>\n",
              "    </tr>\n",
              "    <tr>\n",
              "      <th>3</th>\n",
              "      <td>1</td>\n",
              "      <td>1129</td>\n",
              "      <td>2.0</td>\n",
              "      <td>1260759185</td>\n",
              "      <td>0</td>\n",
              "      <td>3</td>\n",
              "    </tr>\n",
              "    <tr>\n",
              "      <th>4</th>\n",
              "      <td>1</td>\n",
              "      <td>1172</td>\n",
              "      <td>4.0</td>\n",
              "      <td>1260759205</td>\n",
              "      <td>0</td>\n",
              "      <td>4</td>\n",
              "    </tr>\n",
              "    <tr>\n",
              "      <th>...</th>\n",
              "      <td>...</td>\n",
              "      <td>...</td>\n",
              "      <td>...</td>\n",
              "      <td>...</td>\n",
              "      <td>...</td>\n",
              "      <td>...</td>\n",
              "    </tr>\n",
              "    <tr>\n",
              "      <th>995</th>\n",
              "      <td>15</td>\n",
              "      <td>125</td>\n",
              "      <td>3.5</td>\n",
              "      <td>1245362506</td>\n",
              "      <td>14</td>\n",
              "      <td>666</td>\n",
              "    </tr>\n",
              "    <tr>\n",
              "      <th>996</th>\n",
              "      <td>15</td>\n",
              "      <td>145</td>\n",
              "      <td>3.5</td>\n",
              "      <td>1134521543</td>\n",
              "      <td>14</td>\n",
              "      <td>667</td>\n",
              "    </tr>\n",
              "    <tr>\n",
              "      <th>997</th>\n",
              "      <td>15</td>\n",
              "      <td>149</td>\n",
              "      <td>5.0</td>\n",
              "      <td>1075142933</td>\n",
              "      <td>14</td>\n",
              "      <td>668</td>\n",
              "    </tr>\n",
              "    <tr>\n",
              "      <th>998</th>\n",
              "      <td>15</td>\n",
              "      <td>150</td>\n",
              "      <td>3.0</td>\n",
              "      <td>997939380</td>\n",
              "      <td>14</td>\n",
              "      <td>29</td>\n",
              "    </tr>\n",
              "    <tr>\n",
              "      <th>999</th>\n",
              "      <td>15</td>\n",
              "      <td>153</td>\n",
              "      <td>1.0</td>\n",
              "      <td>1128274517</td>\n",
              "      <td>14</td>\n",
              "      <td>30</td>\n",
              "    </tr>\n",
              "  </tbody>\n",
              "</table>\n",
              "<p>1000 rows × 6 columns</p>\n",
              "</div>\n",
              "      <button class=\"colab-df-convert\" onclick=\"convertToInteractive('df-2d504192-1256-4e41-ae9e-82bbe7b0eb49')\"\n",
              "              title=\"Convert this dataframe to an interactive table.\"\n",
              "              style=\"display:none;\">\n",
              "        \n",
              "  <svg xmlns=\"http://www.w3.org/2000/svg\" height=\"24px\"viewBox=\"0 0 24 24\"\n",
              "       width=\"24px\">\n",
              "    <path d=\"M0 0h24v24H0V0z\" fill=\"none\"/>\n",
              "    <path d=\"M18.56 5.44l.94 2.06.94-2.06 2.06-.94-2.06-.94-.94-2.06-.94 2.06-2.06.94zm-11 1L8.5 8.5l.94-2.06 2.06-.94-2.06-.94L8.5 2.5l-.94 2.06-2.06.94zm10 10l.94 2.06.94-2.06 2.06-.94-2.06-.94-.94-2.06-.94 2.06-2.06.94z\"/><path d=\"M17.41 7.96l-1.37-1.37c-.4-.4-.92-.59-1.43-.59-.52 0-1.04.2-1.43.59L10.3 9.45l-7.72 7.72c-.78.78-.78 2.05 0 2.83L4 21.41c.39.39.9.59 1.41.59.51 0 1.02-.2 1.41-.59l7.78-7.78 2.81-2.81c.8-.78.8-2.07 0-2.86zM5.41 20L4 18.59l7.72-7.72 1.47 1.35L5.41 20z\"/>\n",
              "  </svg>\n",
              "      </button>\n",
              "      \n",
              "  <style>\n",
              "    .colab-df-container {\n",
              "      display:flex;\n",
              "      flex-wrap:wrap;\n",
              "      gap: 12px;\n",
              "    }\n",
              "\n",
              "    .colab-df-convert {\n",
              "      background-color: #E8F0FE;\n",
              "      border: none;\n",
              "      border-radius: 50%;\n",
              "      cursor: pointer;\n",
              "      display: none;\n",
              "      fill: #1967D2;\n",
              "      height: 32px;\n",
              "      padding: 0 0 0 0;\n",
              "      width: 32px;\n",
              "    }\n",
              "\n",
              "    .colab-df-convert:hover {\n",
              "      background-color: #E2EBFA;\n",
              "      box-shadow: 0px 1px 2px rgba(60, 64, 67, 0.3), 0px 1px 3px 1px rgba(60, 64, 67, 0.15);\n",
              "      fill: #174EA6;\n",
              "    }\n",
              "\n",
              "    [theme=dark] .colab-df-convert {\n",
              "      background-color: #3B4455;\n",
              "      fill: #D2E3FC;\n",
              "    }\n",
              "\n",
              "    [theme=dark] .colab-df-convert:hover {\n",
              "      background-color: #434B5C;\n",
              "      box-shadow: 0px 1px 3px 1px rgba(0, 0, 0, 0.15);\n",
              "      filter: drop-shadow(0px 1px 2px rgba(0, 0, 0, 0.3));\n",
              "      fill: #FFFFFF;\n",
              "    }\n",
              "  </style>\n",
              "\n",
              "      <script>\n",
              "        const buttonEl =\n",
              "          document.querySelector('#df-2d504192-1256-4e41-ae9e-82bbe7b0eb49 button.colab-df-convert');\n",
              "        buttonEl.style.display =\n",
              "          google.colab.kernel.accessAllowed ? 'block' : 'none';\n",
              "\n",
              "        async function convertToInteractive(key) {\n",
              "          const element = document.querySelector('#df-2d504192-1256-4e41-ae9e-82bbe7b0eb49');\n",
              "          const dataTable =\n",
              "            await google.colab.kernel.invokeFunction('convertToInteractive',\n",
              "                                                     [key], {});\n",
              "          if (!dataTable) return;\n",
              "\n",
              "          const docLinkHtml = 'Like what you see? Visit the ' +\n",
              "            '<a target=\"_blank\" href=https://colab.research.google.com/notebooks/data_table.ipynb>data table notebook</a>'\n",
              "            + ' to learn more about interactive tables.';\n",
              "          element.innerHTML = '';\n",
              "          dataTable['output_type'] = 'display_data';\n",
              "          await google.colab.output.renderOutput(dataTable, element);\n",
              "          const docLink = document.createElement('div');\n",
              "          docLink.innerHTML = docLinkHtml;\n",
              "          element.appendChild(docLink);\n",
              "        }\n",
              "      </script>\n",
              "    </div>\n",
              "  </div>\n",
              "  "
            ]
          },
          "metadata": {},
          "execution_count": 13
        }
      ],
      "source": [
        "df.head(1000)"
      ]
    },
    {
      "cell_type": "markdown",
      "metadata": {
        "id": "oRwc1ep7mG9n"
      },
      "source": [
        "### Scaling the ratings\n",
        "\n",
        "As is good when working with ``gradient descent``, it helps to have our values on a similar range, and for that to be between 0 and 1. We can use the ``MinMaxScaler`` from ``Scikit-Learn`` to scale our ratings to between 0 and 1"
      ]
    },
    {
      "cell_type": "code",
      "execution_count": null,
      "metadata": {
        "colab": {
          "base_uri": "https://localhost:8080/"
        },
        "id": "_r2drIElmG9o",
        "outputId": "eaad8e43-8aa5-4725-a968-64d22dd01924"
      },
      "outputs": [
        {
          "output_type": "execute_result",
          "data": {
            "text/plain": [
              "count    100004.000000\n",
              "mean       1660.778349\n",
              "std        1893.955817\n",
              "min           0.000000\n",
              "25%         327.000000\n",
              "50%         873.000000\n",
              "75%        2344.000000\n",
              "max        9065.000000\n",
              "Name: movie_index, dtype: float64"
            ]
          },
          "metadata": {},
          "execution_count": 14
        }
      ],
      "source": [
        "df[\"movie_index\"].describe()"
      ]
    },
    {
      "cell_type": "code",
      "execution_count": null,
      "metadata": {
        "id": "kAlq7aBZmG9p"
      },
      "outputs": [],
      "source": [
        "from sklearn.preprocessing import MinMaxScaler\n",
        "##Pick the range\\\n",
        "df[\"rating\"] = MinMaxScaler().fit_transform(df[\"rating\"].values.reshape(-1, 1))      # hvorfor siger vi så -1 og 1 her?"
      ]
    },
    {
      "cell_type": "code",
      "execution_count": null,
      "metadata": {
        "colab": {
          "base_uri": "https://localhost:8080/"
        },
        "id": "5jZ83EHvmG9q",
        "outputId": "e5523dd5-d6ed-4a1f-fc77-1fd752025c89"
      },
      "outputs": [
        {
          "output_type": "execute_result",
          "data": {
            "text/plain": [
              "count    100004.000000\n",
              "mean          0.676357\n",
              "std           0.235125\n",
              "min           0.000000\n",
              "25%           0.555556\n",
              "50%           0.777778\n",
              "75%           0.777778\n",
              "max           1.000000\n",
              "Name: rating, dtype: float64"
            ]
          },
          "metadata": {},
          "execution_count": 16
        }
      ],
      "source": [
        "df[\"rating\"].describe()"
      ]
    },
    {
      "cell_type": "markdown",
      "metadata": {
        "id": "di10pdi6mG9q"
      },
      "source": [
        "## Training Set\n",
        "\n",
        "We are making a **predictive model** that will take a **user** and **movie** and return a **rating**.\n",
        "\n",
        "For our training, we will make a dataset using the information we already know. In this context, our input feautres (``x``) are the movie and user indexes, and the our output (``y``) is the rating.\n",
        "\n",
        "We make a train - test split of ``10%`` to validate our model."
      ]
    },
    {
      "cell_type": "code",
      "execution_count": null,
      "metadata": {
        "id": "5Kov-ZD5mG9q"
      },
      "outputs": [],
      "source": [
        "from sklearn.model_selection import train_test_split\n",
        "#Inputs\n",
        "x = df[[\"user_index\", \"movie_index\"]]\n",
        "#Outputs\n",
        "y = df[\"rating\"]\n",
        "#Get train-test split\n",
        "x_train, x_val, y_train, y_val = train_test_split(x, y, test_size=0.1, random_state=42)"
      ]
    },
    {
      "cell_type": "markdown",
      "metadata": {
        "id": "zzgKfQzmmG9r"
      },
      "source": [
        "## Making a Custom Model\n",
        "\n",
        "Previously in ``Keras`` we have used to pre-existing layers, connecting them all together in using the [Sequential](https://keras.io/guides/sequential_model/) object. This allows us to fit together layers that pass information forwards in a structure that works for most **Neural Networks**.\n",
        "\n",
        "Partly for reasons of broadening our horizons, and partly due to many Tensorflow based issues, we are going to introduce you to what is fastly becoming the most popular machine learning library, ``PyTorch``.\n",
        "\n",
        "Luckily for us, the API (the functions, the structure of models etc..) are very similar across a lot of the leading libraries.\n",
        "\n",
        "``PyTorch`` has a [Module]() object which we can **subclass**. Without getting too bogged down in the details of **Object Oriented Programming**, essentially what this means is we can take the **existing functionality** from this object and **override** certain functions to add in custom behaviour.\n",
        "\n",
        "Using the ``Module`` structure, we have something that can take advantage of a lot the things that are built into the ``PyTorch`` library. It can be trained, can have layers, can have parameters that can be optimised.\n",
        "\n",
        "**But**, we can also add in our own functionality.\n",
        "\n",
        "The two main functions we want to override and these are\n",
        "\n",
        "1. ``def __init__()``\n",
        "\n",
        "    * This is called **once** when the object is first made. We can use this to define our layers\n",
        "\n",
        "\n",
        "2. ``def forward()``\n",
        "\n",
        "    * This is called everytime we want to make a forwards pass. This means it takes some **inputs** and returns some **outputs**. This is called during training, or for inference on a trained model.\n",
        "\n",
        "### LouisNet\n",
        "\n",
        "Below, we show an **incredibly simple model**, but it should help you get an intuition for what function is called at when in the training process\n",
        "\n",
        "We can see the ``__init__()`` is called once, and then the ``call()`` is called **once per batch**, where we get the inputs for this batch and return some outputs\n",
        "\n",
        "This model doesnt actually have any parameters to train, its more to demonstrate the subclassing principle in the simplest terms"
      ]
    },
    {
      "cell_type": "code",
      "execution_count": null,
      "metadata": {
        "id": "OoMawa-cmG9r"
      },
      "outputs": [],
      "source": [
        "#Install libraries (only do this once!)\n",
        "#!pip install torch torchvision torchaudio"
      ]
    },
    {
      "cell_type": "code",
      "execution_count": null,
      "metadata": {
        "id": "k5UsA791mG9r"
      },
      "outputs": [],
      "source": [
        "#import library\n",
        "import torch"
      ]
    },
    {
      "cell_type": "code",
      "execution_count": null,
      "metadata": {
        "colab": {
          "base_uri": "https://localhost:8080/"
        },
        "id": "b9roxLThmG9s",
        "outputId": "3e413b59-8c0c-42ec-869a-5676385cc7f5"
      },
      "outputs": [
        {
          "output_type": "stream",
          "name": "stdout",
          "text": [
            "__init__ called\n",
            "\n",
            "forwards pass (new batch)\n",
            "tensor([[1.],\n",
            "        [2.],\n",
            "        [3.],\n",
            "        [4.]]) \n",
            "\n"
          ]
        }
      ],
      "source": [
        "#Define class and subclass torch.nn.Module\n",
        "class LouisNet(torch.nn.Module):    # argument her er hvilken class vi inherits from. torch er library, nn er neural network of module er the model\n",
        "\n",
        "    #Override __init__()\n",
        "    def __init__(self):\n",
        "        super().__init__()\n",
        "        print(\"__init__ called\")\n",
        "\n",
        "    #Override forward()\n",
        "    def forward(self, inputs):     # we pass the input data to the model\n",
        "        print(\"\\nforwards pass (new batch)\")\n",
        "        print(inputs,\"\\n\")\n",
        "        #return the output (its just the input, unchanged)\n",
        "        return inputs\n",
        "\n",
        "#Make a new instance of LouisNet\n",
        "louisNet = LouisNet()\n",
        "loss_fn = torch.nn.MSELoss()\n",
        "\n",
        "#Fake dataset\n",
        "x = torch.FloatTensor([[1],[2],[3],[4]])\n",
        "y = torch.FloatTensor([[2],[3],[4],[5]])\n",
        "\n",
        "#DO A FORWARD PASS s\n",
        "prediction = louisNet(x)\n",
        "loss = loss_fn(prediction, y)"
      ]
    },
    {
      "cell_type": "markdown",
      "metadata": {
        "id": "4JYblC-mmG9s"
      },
      "source": [
        "## The Dot Product Recommender Model\n",
        "\n",
        "Lets remember the model we're trying to make.\n",
        "\n",
        "\n",
        "```\n",
        "Predicted Rating = Dot Product(user_vector, item_vector) + user_bias + item_bias\n",
        "```\n",
        "\n",
        "\n",
        "Our target is to find a vector for each movie and user so that their dot product (+ their biases) is an accurate prediction for the rating that user would make for that movie.\n",
        "\n",
        "Each of these vectors will be contained in a matrix, that we call an **embedding**\n",
        "\n",
        "\n",
        "### The Embedding Layer\n",
        "\n",
        "Again, you can think of an embedding layer as a **one-hot encoding** layer the size of your **vocabulary**, followed by a **fully connected layer** the size of your embedding.\n",
        "\n",
        "Luckily, ```PyTorch``` has a layer already we can use, all we have to say is\n",
        "\n",
        "1. How many items we have (vocabulary size)\n",
        "\n",
        "2. The size of the embedding\n",
        "\n",
        "You might use something between 10-300, and this is something you will have to tune\n",
        "\n",
        "### New Arguments for ``__init__``\n",
        "\n",
        "Again, we will override the ```__init__()``` function, but this time we will add in some extra arguments. We can use this to pass in\n",
        "\n",
        "1. Number of users\n",
        "\n",
        "2. Number of movies\n",
        "\n",
        "3. Size of Embedding\n",
        "\n",
        "These get passed in when we make the new object\n",
        "\n",
        "```\n",
        "model = RecommenderNet(num_users, num_movies, EMBEDDING_SIZE)\n",
        "\n",
        "```\n",
        "\n",
        "### Saving Variables and ```self```\n",
        "\n",
        "Finally, the last **Object-oriented** concept we'll need allows us to save things within the object. These are sometimes called ``instance variables`` or ``fields``, but the main thing you need to know is **these are like the variables we use all the time to store objects and data**, apart from they belong to the object, and only work within this context\n",
        "\n",
        "We use the keyword ```self``` within the object to refer to itself. We can use this to make layers in the ```__init__()``` function, store them in the object, and then reuse and update them in the ```forward()``` function.\n"
      ]
    },
    {
      "cell_type": "markdown",
      "metadata": {
        "id": "h4NHYx74mG9s"
      },
      "source": [
        "On every forwards pass (see ``forward()`` below)\n",
        "\n",
        "1. We take a batch of ``users`` and ``movies``\n",
        "\n",
        "\n",
        "2. Run them through the normal embedding and bias embedding layers respectively\n",
        "\n",
        "\n",
        "3. Get the vectors for each out\n",
        "\n",
        "\n",
        "4. Get the dot product of the user and movie vectors\n",
        "\n",
        "\n",
        "5. Add the biases\n",
        "\n",
        "\n",
        "6. Run through a sigmoid\n",
        "\n",
        "\n",
        "7. Return!"
      ]
    },
    {
      "cell_type": "code",
      "execution_count": null,
      "metadata": {
        "id": "tqsvVXSkmG9t"
      },
      "outputs": [],
      "source": [
        "class RecommenderNet(torch.nn.Module):       # class recommendernet inherits from the pytorch model module\n",
        "    def __init__(self, num_users, num_movies, embedding_size=20):\n",
        "        super().__init__()\n",
        "        self.user_embedding = torch.nn.Embedding(num_users, embedding_size)     # we use self.variable for at definere det in global scope\n",
        "        self.user_bias = torch.nn.Embedding(num_users, 1)                       # so now er den connected til the instance self og kan blive brugt anywhere\n",
        "        self.movie_embedding = torch.nn.Embedding(num_movies, embedding_size)\n",
        "        self.movie_bias = torch.nn.Embedding(num_movies, 1)\n",
        "        self.sig = torch.nn.Sigmoid()\n",
        "\n",
        "    def forward(self, inputs):\n",
        "        #Split out indexes\n",
        "        user_indexes = inputs[:, 0]\n",
        "        movie_indexes = inputs[:, 1]\n",
        "        #Forward pass on embedding layer\n",
        "        user_vector = self.user_embedding(user_indexes)\n",
        "        user_bias = self.user_bias(user_indexes).flatten()\n",
        "        movie_vector = self.movie_embedding(movie_indexes)\n",
        "        movie_bias = self.movie_bias(movie_indexes).flatten()\n",
        "        #Dot product\n",
        "        dot = (user_vector * movie_vector).sum(1)\n",
        "        with_bias = dot + user_bias + movie_bias\n",
        "        #Activation function\n",
        "        output = self.sig(with_bias)\n",
        "        return output\n",
        "\n",
        "    # this code added to make user and movie embeddings available outside of this class\n",
        "#movie_instance = RecommenderNet(some_embedding) # create instance this code was working at some point?????  - måske fordi jeg kørte den uden at train først virkede det ikke\n",
        "\n",
        "# Accessing movie_embedding outside the class\n",
        "#embedding = movie_instance.movie_embedding  # If movie_embedding is public\n",
        "#embedding = movie_instance.get_movie_embedding()  # If movie_embedding has a getter method"
      ]
    },
    {
      "cell_type": "markdown",
      "metadata": {
        "id": "C8p2ZVMxmG9t"
      },
      "source": [
        "## Lets test it!\n",
        "\n",
        "### Set up model"
      ]
    },
    {
      "cell_type": "code",
      "execution_count": null,
      "metadata": {
        "id": "rvcYjG4vmG9t"
      },
      "outputs": [],
      "source": [
        "#Pick Embedding size\n",
        "EMBEDDING_SIZE = 16\n",
        "#Make new object (calls __init__())\n",
        "num_users = len(user_ids)\n",
        "num_movies = len(movie_ids)\n",
        "model = RecommenderNet(num_users, num_movies, EMBEDDING_SIZE)"
      ]
    },
    {
      "cell_type": "markdown",
      "metadata": {
        "id": "z7oIzZ0nmG9u"
      },
      "source": [
        "### Training and Datasets in PyTorch\n",
        "\n",
        "PyTorch requires a little bit of manual set up for the training loop that we got for free in ``Keras`` with the ``fit()`` function.\n",
        "\n",
        "Below we see two for loops, one that loops round every epoch (once through the entire dataset) and inside that that loops through each batch (a subset of a chosen size).\n",
        "\n",
        "``PyTorch`` gives us a ``DataLoader`` object which helps with the batching process.\n",
        "\n",
        "Within that inner loop we pass in part of the training set, calculate the loss and update the weights based on this.\n"
      ]
    },
    {
      "cell_type": "code",
      "execution_count": null,
      "metadata": {
        "id": "f5kbm2g8mG9u"
      },
      "outputs": [],
      "source": [
        "from torch.utils.data import DataLoader\n",
        "from torch.utils.data import Dataset\n",
        "\n",
        "#Make a subclass to hold our dataset (movie - user pairs (input) and a rating (label))\n",
        "class MoviesDataset(Dataset):\n",
        "    def __init__(self, X,y):\n",
        "        self.X = torch.IntTensor(X)\n",
        "        self.y = torch.FloatTensor(y)\n",
        "    def __len__(self):\n",
        "        return len(self.X)\n",
        "    def __getitem__(self, idx):\n",
        "        return self.X[idx], self.y[idx]"
      ]
    },
    {
      "cell_type": "code",
      "execution_count": null,
      "metadata": {
        "id": "uIaQRvZ1mG9u"
      },
      "outputs": [],
      "source": [
        "#Use our train - validation split to make DataLoader objects\n",
        "train_dl = DataLoader(MoviesDataset(x_train.values,y_train.values), batch_size=64, shuffle=True)\n",
        "validation_dl = DataLoader(MoviesDataset(x_val.values,y_val.values), batch_size=64, shuffle=True)"
      ]
    },
    {
      "cell_type": "code",
      "execution_count": null,
      "metadata": {
        "id": "d_Rfo00nmG9v"
      },
      "outputs": [],
      "source": [
        "epochs = 10\n",
        "#Use Mean Squared Error as a loss function\n",
        "loss_fn = torch.nn.MSELoss()\n",
        "#Use the Adam algorithm to update the weights based on the loss\n",
        "optimizer = torch.optim.Adam(model.parameters(),lr=0.01)"
      ]
    },
    {
      "cell_type": "code",
      "execution_count": null,
      "metadata": {
        "colab": {
          "base_uri": "https://localhost:8080/"
        },
        "id": "mgRzj5HymG9v",
        "outputId": "d4def95e-a06d-4eb2-a6cf-61c4b2b6181e"
      },
      "outputs": [
        {
          "output_type": "stream",
          "name": "stdout",
          "text": [
            "Loss 0.174573615193367 Validation Loss 0.11822628974914551\n",
            "Loss 0.0772479698061943 Validation Loss 0.08348644524812698\n",
            "Loss 0.04888326674699783 Validation Loss 0.07131902873516083\n",
            "Loss 0.037245314568281174 Validation Loss 0.0668601468205452\n",
            "Loss 0.03143223375082016 Validation Loss 0.0652356892824173\n",
            "Loss 0.027973126620054245 Validation Loss 0.06447188556194305\n",
            "Loss 0.02549760974943638 Validation Loss 0.06345058232545853\n",
            "Loss 0.023907756432890892 Validation Loss 0.06301461160182953\n",
            "Loss 0.022715549916028976 Validation Loss 0.06401782482862473\n",
            "Loss 0.022067824378609657 Validation Loss 0.0635884553194046\n"
          ]
        }
      ],
      "source": [
        "#Use a for loop to repeat for the desired number of epochs\n",
        "for i in range(epochs):\n",
        "\n",
        "    model.train(True)     # set to true because WE ARE READY TO TRAIN\n",
        "\n",
        "    #Use a for loop for each batch (provided by the Dataloader)\n",
        "    running_loss = 0.0\n",
        "    for (index, batch) in enumerate(train_dl):\n",
        "\n",
        "        #Get batch\n",
        "        inputs, labels = batch\n",
        "        model.zero_grad()\n",
        "\n",
        "        #Forward pass\n",
        "        prediction = model(inputs)\n",
        "\n",
        "        #Get Loss\n",
        "        loss = loss_fn(prediction, labels)\n",
        "\n",
        "        #Update weights (back prop)\n",
        "        loss.backward()\n",
        "        optimizer.step()\n",
        "        running_loss += loss\n",
        "\n",
        "    avg_loss = running_loss / (index + 1)\n",
        "\n",
        "    model.train(False)\n",
        "\n",
        "    #Now try with the validation set (no need to update weights, just get loss)\n",
        "    running_vloss = 0.0\n",
        "    for index, vdata in enumerate(validation_dl):\n",
        "        vinputs, vlabels = vdata\n",
        "        voutputs = model(vinputs)\n",
        "        vloss = loss_fn(voutputs, vlabels)\n",
        "        running_vloss += vloss\n",
        "\n",
        "    avg_vloss = running_vloss / (index + 1)\n",
        "    print('Loss {} Validation Loss {}'.format(avg_loss, avg_vloss))"
      ]
    },
    {
      "cell_type": "markdown",
      "metadata": {
        "id": "v_ffZFfRmG9v"
      },
      "source": [
        "### Save and Reload models\n",
        "\n",
        "We can save the weights of our model (the important parts that we have learned) to file so we don't have to train again in future\n",
        "\n",
        "We can then load them into a new model from file."
      ]
    },
    {
      "cell_type": "code",
      "execution_count": null,
      "metadata": {
        "id": "f8LHYOWymG9w"
      },
      "outputs": [],
      "source": [
        "torch.save(model.state_dict(), 'model_weights.pth')     # save model el. progress i 'navn'"
      ]
    },
    {
      "cell_type": "code",
      "execution_count": null,
      "metadata": {
        "colab": {
          "base_uri": "https://localhost:8080/"
        },
        "id": "CHYEbDWxmG-F",
        "outputId": "c5d34f21-73fd-4f0b-cda7-261f7f1dec06"
      },
      "outputs": [
        {
          "output_type": "execute_result",
          "data": {
            "text/plain": [
              "RecommenderNet(\n",
              "  (user_embedding): Embedding(671, 16)\n",
              "  (user_bias): Embedding(671, 1)\n",
              "  (movie_embedding): Embedding(9066, 16)\n",
              "  (movie_bias): Embedding(9066, 1)\n",
              "  (sig): Sigmoid()\n",
              ")"
            ]
          },
          "metadata": {},
          "execution_count": 28
        }
      ],
      "source": [
        "model = RecommenderNet(num_users, num_movies, EMBEDDING_SIZE)\n",
        "model.load_state_dict(torch.load('model_weights.pth'))    # load model in\n",
        "model.eval()"
      ]
    },
    {
      "cell_type": "markdown",
      "metadata": {
        "id": "IuBerKanmG-G"
      },
      "source": [
        "### Accessing the Embeddings\n",
        "\n",
        "We can access the **embedding layers** in our model object. This is the embedding and we can see is has a shape of ```num_users x EMBEDDING_SIZE```"
      ]
    },
    {
      "cell_type": "code",
      "execution_count": null,
      "metadata": {
        "colab": {
          "base_uri": "https://localhost:8080/"
        },
        "id": "e5NWNLLDmG-G",
        "outputId": "e9e34bc2-07ff-4217-f4ec-e96d489bf91e"
      },
      "outputs": [
        {
          "output_type": "execute_result",
          "data": {
            "text/plain": [
              "(671, 16, Embedding(671, 16))"
            ]
          },
          "metadata": {},
          "execution_count": 29
        }
      ],
      "source": [
        "num_users, EMBEDDING_SIZE, model.user_embedding"
      ]
    },
    {
      "cell_type": "markdown",
      "metadata": {
        "id": "jciNtGqJmG-H"
      },
      "source": [
        "### Making Predictions\n",
        "\n",
        "Now, we can use our trained model to make predictions, and with the predicted ratings, we can pick some recommendations!\n",
        "\n",
        "In order to get the ratings for all movies for a given user, we need to get pass in our data in the form\n",
        "\n",
        "```\n",
        "[\n",
        "    [user_index, movie_1_index],\n",
        "    [user_index, movie_2_index],\n",
        "    [user_index, movie_3_index],\n",
        "    .....\n",
        "]\n",
        "\n",
        "```"
      ]
    },
    {
      "cell_type": "code",
      "execution_count": null,
      "metadata": {
        "colab": {
          "base_uri": "https://localhost:8080/"
        },
        "id": "O6K2NNdomG-I",
        "outputId": "ebc625f9-2107-4eb3-f913-87f75085aeb5"
      },
      "outputs": [
        {
          "output_type": "execute_result",
          "data": {
            "text/plain": [
              "Index(['movieId', 'title', 'genres'], dtype='object')"
            ]
          },
          "metadata": {},
          "execution_count": 31
        }
      ],
      "source": [
        "#Get the movie data so we can map back to names\n",
        "#movie_data = pd.read_csv(\"ml-latest-small/movies.csv\")\n",
        "movie_data = pd.read_csv('movies.csv')\n",
        "movie_data.columns\n",
        "#movie_data"
      ]
    },
    {
      "cell_type": "markdown",
      "metadata": {
        "id": "PJxcli9ZmG-I"
      },
      "source": [
        "### Making predictions and `argsort()`\n",
        "\n",
        "Once we have the predicted ratings for each film, we need to get the **Top N**\n",
        "\n",
        "Here we use `np.argsort()`, which does the sort based on the **ratings** but returns the **indexes** rather than the **ratings themselves**. We can then use this to look up the `movie_ids` and then the `title`."
      ]
    },
    {
      "cell_type": "code",
      "execution_count": null,
      "metadata": {
        "id": "7L83bDR2mG-J"
      },
      "outputs": [],
      "source": [
        "def get_top_n(user = 0, n = 10):\n",
        "    #Get Movie Names\n",
        "    top_n_indexes = get_top_n_indexes(user, n)      #\n",
        "    top_n = get_names_for_indexes(top_n_indexes)\n",
        "    return top_n\n",
        "\n",
        "def get_names_for_indexes(indexes):\n",
        "    return [movie_data[movie_data[\"movieId\"]==movie_ids[i]][\"title\"].item() for i in indexes]\n",
        "\n",
        "def get_top_n_indexes(user = 0, n = 10):\n",
        "    #For one user, make a pair with every movie index\n",
        "    x = torch.IntTensor([[user, i] for i in np.arange(num_movies)])\n",
        "    #Predict\n",
        "    predicted_ratings = model(x)\n",
        "    #Get Top-N indexes\n",
        "    top_n_indexes = predicted_ratings.argsort()[-n:]\n",
        "    return top_n_indexes"
      ]
    },
    {
      "cell_type": "code",
      "execution_count": null,
      "metadata": {
        "colab": {
          "base_uri": "https://localhost:8080/"
        },
        "id": "-PPD9icLmG-J",
        "outputId": "35e10956-328a-440c-8f6b-40fa20de54ae"
      },
      "outputs": [
        {
          "output_type": "execute_result",
          "data": {
            "text/plain": [
              "['Contracted: Phase II (2015)',\n",
              " 'Disappearance of Haruhi Suzumiya, The (Suzumiya Haruhi no shôshitsu) (2010)',\n",
              " 'Thief and the Cobbler, The (a.k.a. Arabian Knight) (1995)',\n",
              " 'How to Steal a Million (1966)',\n",
              " 'The Beatles: Eight Days a Week - The Touring Years (2016)',\n",
              " 'Desk Set (1957)',\n",
              " 'Original Kings of Comedy, The (2000)',\n",
              " 'Sheltering Sky, The (1990)',\n",
              " 'Ugetsu (Ugetsu monogatari) (1953)',\n",
              " 'Visions of Light: The Art of Cinematography (1992)']"
            ]
          },
          "metadata": {},
          "execution_count": 33
        }
      ],
      "source": [
        "#Random users top 10\n",
        "get_top_n(np.random.randint(num_users))"
      ]
    },
    {
      "cell_type": "markdown",
      "metadata": {
        "id": "uO0cQOdqmG-K"
      },
      "source": [
        "# Assessed Assignment 2\n",
        "\n",
        "Please remember to comment your code clearly, submit ``.ipynb``\n",
        "\n",
        "## Task 1\n",
        "\n",
        "We're going to ask you take the trained model and write the code to make two metrics - **Diversity** and **Novelty**. You should end up with **one statistic** for each that tells you something about the recommendations of the trained model based on the **whole dataset**.\n",
        "\n",
        "\n",
        "#### Pro Tip\n",
        "\n",
        "This will take quite a long time to run on the whole dataset, so start off by trying to get the code to work for **one user**, then expand to **two users**, then **every user**.\n",
        "\n",
        "### Diversity\n",
        "\n",
        "This tells us what the mean diversity (inverse of the similarity, based on movie embeddings) between each film in every users Top 10 films is.\n",
        "\n",
        "1. Calculate every user's top 10\n",
        "\n",
        "\n",
        "2. For each top 10, get the embedding for each film then use this to calculate the similarity matrix\n",
        "\n",
        "\n",
        "3. Invert similarity to get the difference\n",
        "\n",
        "\n",
        "4. Get mean difference for each top 10\n",
        "\n",
        "\n",
        "5. Report the mean for whole dataset (every top 10)\n",
        "\n",
        "\n",
        "### Novelty\n",
        "\n",
        "This tells us what the mean popularity (e.g. mean rating) of the films in every users Top 10 films is\n",
        "\n",
        "1. Calculate every user's top 10\n",
        "\n",
        "\n",
        "2. For each top 10, get the mean rating for each film (based on the original **MovieLens Small** dataset (``df = pd.read_csv(\"ml-latest-small/ratings.csv\")``).\n",
        "\n",
        "\n",
        "3. Get the mean rating for each top 10.\n",
        "\n",
        "\n",
        "4. Report the mean for the whole dataset (every top 10).\n",
        "\n",
        "\n",
        "\n",
        "## Task 2\n",
        "\n",
        "Using a dimensionality reduction approach (PCA? TSNE?), plot the top 30 best rated films on a 2-D graph based on their movie embeddings. Label each point with the title.\n",
        "\n",
        "There is infact ~400 films that have an average rating of 5 (because some films have only 1 rating). Can you adjust or filter for this?"
      ]
    },
    {
      "cell_type": "markdown",
      "metadata": {
        "id": "KF0NNbCmmG-L"
      },
      "source": [
        "## TASK 1 DIVERSITY"
      ]
    },
    {
      "cell_type": "markdown",
      "metadata": {
        "id": "3SzTbvq-mG-L"
      },
      "source": [
        "want something like this to hold the users recommendations:\n",
        "my_dict = {\n",
        "    'key1': [value1, value2, value3],\n",
        "    'key2': [value4, value5],\n",
        "    'key3': [value6]\n",
        "}"
      ]
    },
    {
      "cell_type": "code",
      "execution_count": null,
      "metadata": {
        "id": "qnS1zdtumG-M"
      },
      "outputs": [],
      "source": [
        "from sklearn.metrics.pairwise import cosine_similarity as cosine\n",
        "from sklearn.preprocessing import StandardScaler"
      ]
    },
    {
      "cell_type": "code",
      "execution_count": null,
      "metadata": {
        "colab": {
          "base_uri": "https://localhost:8080/"
        },
        "id": "z2v284pMmG-N",
        "outputId": "d3ff40fe-38ab-4c86-85e2-0705e7a1308d"
      },
      "outputs": [
        {
          "output_type": "stream",
          "name": "stdout",
          "text": [
            "['3 Women (Three Women) (1977)', \"Whores' Glory (2011)\", 'Unmade Beds (1997)', \"That's Entertainment! III (1994)\", 'Amazon Women on the Moon (1987)', 'Death on the Staircase (Soupçons) (2004)', 'To Hell and Back (1955)', 'Wish Upon a Star (1996)', 'Lamerica (1994)', 'Willie & Phil (1980)']\n",
            "99\n",
            "2071\n",
            "671\n",
            "9066\n",
            "['3 Women (Three Women) (1977)', \"Whores' Glory (2011)\", 'Unmade Beds (1997)', \"That's Entertainment! III (1994)\", 'Amazon Women on the Moon (1987)', 'Death on the Staircase (Soupçons) (2004)', 'To Hell and Back (1955)', 'Wish Upon a Star (1996)', 'Lamerica (1994)', 'Willie & Phil (1980)']\n"
          ]
        }
      ],
      "source": [
        "# TASK 1.1\n",
        "# get recommendation for 1 test user nr. 11\n",
        "test_recommendation = get_top_n(np.random.randint(10))\n",
        "print(test_recommendation)\n",
        "# dictionaries that is mapping ids (keys) to indexes (values)\n",
        "print(user_id_to_index[100])\n",
        "print(movie_id_to_index[100])\n",
        "print(len(user_id_to_index))\n",
        "print(len(movie_id_to_index))\n",
        "print(test_recommendation)"
      ]
    },
    {
      "cell_type": "code",
      "execution_count": null,
      "metadata": {
        "id": "dZz1DpoLmG-N"
      },
      "outputs": [],
      "source": [
        "# get top 10 movie recommendation for each user\n",
        "\n",
        "top_movies_names = []        # hold top movies\n",
        "\n",
        "# iterate over users and get top 10 indexes for each user\n",
        "for u in range(num_users):\n",
        "    top_movie = get_top_n(u)\n",
        "    top_movies_names.append(top_movie)"
      ]
    },
    {
      "cell_type": "code",
      "execution_count": null,
      "metadata": {
        "colab": {
          "base_uri": "https://localhost:8080/"
        },
        "id": "ge2llYUDmG-O",
        "outputId": "9e5e928d-69d7-4f31-cd2b-2c23e6c88024"
      },
      "outputs": [
        {
          "output_type": "stream",
          "name": "stdout",
          "text": [
            "671\n",
            "['Cops (1922)', 'Search Party (2014)', 'Clash of the Titans (2010)', 'Victoria (2015)', 'Metropolis (2001)', 'Invisible Circus, The (2001)', 'Heavyweights (Heavy Weights) (1995)', 'Central Station (Central do Brasil) (1998)', 'Calvary (2014)', 'Choose Me (1984)']\n",
            "<class 'list'>\n",
            "10\n"
          ]
        }
      ],
      "source": [
        "# top 10 movie recommendations for user nr. 71\n",
        "print(len(top_movies_names))\n",
        "print(top_movies_names[70])\n",
        "print(type(top_movies_names))\n",
        "print(len(top_movies_names[70]))\n"
      ]
    },
    {
      "cell_type": "code",
      "execution_count": null,
      "metadata": {
        "id": "17aYYzcImG-P"
      },
      "outputs": [],
      "source": [
        "# THIS CELL WORKS\n",
        "# get top 10 movies indexes for each user and match the list of top 10 movies to the user index   -> this is 10 because we are using the premade get_top_n_indexes function\n",
        "user_movies_dict = {user:get_top_n_indexes(user) for user in range(num_users)}"
      ]
    },
    {
      "cell_type": "code",
      "execution_count": null,
      "metadata": {
        "colab": {
          "base_uri": "https://localhost:8080/"
        },
        "id": "GmfGZjAVmG-P",
        "outputId": "bfc5b279-1677-47b9-e23c-f205752649e7"
      },
      "outputs": [
        {
          "output_type": "stream",
          "name": "stdout",
          "text": [
            "tensor(8895)\n",
            "<class 'dict'>\n",
            "10\n",
            "tensor([7456, 8895, 7521, 3518, 1986, 7730, 3404,  907, 3052, 8015])\n",
            "<class 'torch.Tensor'>\n"
          ]
        }
      ],
      "source": [
        "# top 10 movie recommendations for user nr. 71\n",
        "print(user_movies_dict[70][1])\n",
        "print(type(user_movies_dict))\n",
        "print(len(user_movies_dict[70]))\n",
        "print(user_movies_dict[70])\n",
        "print(type(user_movies_dict[70]))"
      ]
    },
    {
      "cell_type": "code",
      "execution_count": null,
      "metadata": {
        "id": "9_5yBSlhmG-P"
      },
      "outputs": [],
      "source": [
        "# convert back to list of lists that holds the indexes for each movie mapped to each user!\n",
        "top_movies = [user_movies_dict[i].tolist() for i in range(num_users)]"
      ]
    },
    {
      "cell_type": "code",
      "execution_count": null,
      "metadata": {
        "colab": {
          "base_uri": "https://localhost:8080/"
        },
        "id": "HgtBe-WCmG-Q",
        "outputId": "3763931d-08ba-4a6f-96a1-28584d0de8f5"
      },
      "outputs": [
        {
          "output_type": "stream",
          "name": "stdout",
          "text": [
            "<class 'list'>\n",
            "[[8516, 5370, 4620, 7719, 1751, 7886, 8030, 4335, 5742, 2423], [858, 9030, 4934, 8965, 4903, 6027, 4048, 3165, 6506, 5747], [2320, 6828, 593, 3301, 8607, 5719, 7076, 7128, 4629, 7170], [5604, 7755, 5724, 7788, 3917, 8313, 6260, 4231, 858, 7128], [2393, 6204, 7366, 3832, 8540, 4605, 8604, 8091, 7828, 3263], [4936, 7596, 4354, 7495, 6506, 3737, 6580, 6454, 4391, 2754], [7086, 9046, 8558, 9027, 4697, 4537, 2464, 2441, 2878, 1246], [8965, 665, 8030, 8033, 6221, 7976, 4877, 3732, 4236, 4061], [5880, 8313, 3836, 7934, 8293, 6128, 613, 7815, 4162, 8026], [7939, 7045, 8617, 6167, 1136, 8208, 6415, 4773, 6506, 8240], [6506, 5952, 8164, 246, 2333, 6128, 7285, 2421, 8556, 6624], [7445, 3518, 7945, 7886, 6513, 7180, 3633, 7285, 3720, 8728], [9036, 1350, 757, 1324, 2324, 3263, 7247, 8091, 8995, 631], [7173, 1571, 4347, 3558, 3811, 3037, 3043, 6649, 5237, 8607], [4218, 3732, 617, 3042, 1159, 1202, 7722, 5747, 6828, 6818], [7077, 4428, 4521, 8382, 4008, 3956, 631, 7108, 4087, 3732], [8965, 6898, 6399, 4903, 6521, 1985, 9037, 7545, 4166, 3558], [2102, 9036, 2904, 9027, 5666, 631, 6052, 7593, 8995, 7934], [5834, 7454, 820, 8026, 6828, 5288, 7456, 7574, 7586, 6521], [3478, 7108, 8091, 631, 5932, 8015, 6913, 8466, 6906, 2860], [7363, 5548, 7586, 4697, 4396, 2679, 4166, 5952, 7574, 6521], [6666, 4835, 4631, 5225, 9033, 7717, 2925, 8965, 8137, 6506], [6821, 4903, 7722, 9037, 7586, 6828, 9000, 5747, 9028, 8965], [3307, 6469, 3486, 6828, 2639, 2775, 3046, 5536, 3043, 6818], [7815, 1986, 7549, 8793, 8870, 2102, 820, 7456, 8015, 4872], [4067, 7491, 5963, 6260, 8986, 8030, 9022, 5862, 8965, 8140], [7128, 7431, 6262, 4441, 3820, 3066, 7541, 6251, 5219, 5724], [246, 6236, 5334, 2033, 7668, 7432, 1298, 1202, 5779, 4867], [6052, 8668, 5418, 5638, 8908, 3115, 4094, 6591, 3542, 8079], [8241, 9049, 6506, 4773, 1418, 7102, 6739, 8026, 7454, 6521], [4087, 3681, 7035, 1497, 307, 8607, 3528, 3311, 7147, 5920], [6624, 3921, 4689, 8140, 631, 3481, 8516, 205, 704, 9022], [5834, 7611, 1891, 708, 8140, 6849, 4953, 6521, 7366, 3263], [8241, 7909, 5559, 631, 5734, 2374, 8605, 6876, 6521, 7876], [3653, 7631, 2436, 851, 4391, 2423, 6506, 4080, 3147, 2414], [5736, 3879, 3042, 8965, 9027, 8569, 7755, 6521, 4178, 3732], [3794, 2928, 2421, 5485, 5548, 1294, 8033, 2719, 1977, 8556], [6521, 5950, 2679, 3042, 8605, 6497, 5531, 5548, 4194, 8607], [6014, 5584, 8526, 820, 8540, 2688, 5306, 2679, 5318, 5558], [7570, 6512, 7128, 8995, 8015, 6400, 6260, 6906, 6251, 8605], [6233, 6876, 6282, 7035, 252, 6521, 6260, 3095, 7143, 4166], [3424, 4009, 5237, 8965, 6221, 7411, 3457, 7815, 5920, 8364], [7115, 8936, 6272, 5920, 6260, 3917, 8347, 1891, 4592, 8605], [2716, 3725, 5262, 1316, 6663, 6261, 8058, 3859, 1186, 8137], [1965, 8037, 6303, 3479, 2442, 4166, 7611, 4536, 1099, 6204], [3656, 1701, 8240, 8676, 5433, 1246, 6884, 8734, 2441, 6510], [1186, 3778, 5237, 3165, 7717, 5920, 2653, 3859, 3219, 4147], [9037, 4155, 5747, 9022, 7717, 8137, 8030, 8996, 4166, 4697], [8411, 5969, 8550, 6043, 3705, 6858, 5548, 8026, 7102, 6521], [3502, 3917, 7115, 6776, 6260, 8605, 5920, 4326, 7128, 1918], [6233, 8313, 1851, 6845, 6236, 192, 8318, 7317, 6272, 2346], [5572, 8137, 7574, 8042, 5950, 2382, 5726, 7115, 3444, 1503], [1073, 7190, 599, 6163, 6609, 2629, 5222, 3486, 8013, 5563], [7324, 4728, 7558, 252, 4592, 7283, 7942, 1157, 4180, 5387], [4867, 2395, 7102, 6521, 3486, 3458, 8411, 4868, 8026, 6236], [6204, 6521, 3502, 907, 1766, 3452, 7586, 4358, 5301, 7611], [8986, 9022, 9027, 3126, 8030, 8716, 7491, 4773, 8965, 5862], [7803, 2320, 7432, 6043, 8764, 1073, 8540, 7035, 3705, 4358], [4631, 8240, 1489, 6235, 7574, 3938, 8364, 3751, 8870, 3245], [7438, 7363, 3167, 7755, 5724, 4396, 7354, 6128, 6521, 7788], [4877, 668, 3348, 3486, 8313, 7491, 8716, 6569, 3371, 7431], [4080, 4358, 5318, 4155, 3165, 8054, 4903, 5747, 4391, 6506], [786, 4903, 7009, 1870, 7111, 7086, 8205, 6233, 2928, 4155], [5907, 6849, 858, 5747, 4391, 5273, 759, 9042, 9030, 8967], [7454, 8287, 8104, 1350, 5969, 9028, 7937, 8240, 7549, 8545], [3156, 5964, 5565, 2346, 5120, 4728, 7111, 3126, 8347, 8313], [1094, 7574, 4178, 5103, 907, 7611, 6204, 2382, 7586, 8364], [7115, 7039, 8923, 6652, 931, 1856, 8385, 6624, 8137, 4867], [2382, 4170, 8855, 5706, 2414, 8042, 7426, 7115, 4953, 8140], [8347, 7092, 8607, 525, 5462, 2700, 9034, 6906, 8995, 4697], [7456, 8895, 7521, 3518, 1986, 7730, 3404, 907, 3052, 8015], [5719, 5969, 7491, 8996, 3486, 4773, 7035, 4697, 8026, 6521], [4629, 4903, 6260, 7586, 9028, 7723, 7035, 8965, 6521, 3732], [6940, 6579, 3993, 5314, 7833, 5549, 5500, 3238, 5571, 1073], [51, 7610, 8742, 6025, 8313, 4877, 3224, 7285, 1202, 3371], [7611, 6739, 6659, 5834, 6848, 3705, 6513, 6143, 6521, 8550], [9063, 5219, 6975, 1060, 7717, 6876, 4877, 8033, 6429, 6521], [7840, 6457, 6521, 9027, 8605, 6724, 5548, 3518, 6121, 8026], [8213, 7491, 6261, 8624, 4537, 3859, 5571, 3725, 8411, 7086], [858, 5706, 2314, 8605, 1979, 7324, 4170, 9004, 3263, 7456], [6849, 4773, 3263, 4166, 8240, 9037, 8986, 8241, 4180, 4155], [8716, 3857, 7456, 8091, 8180, 7056, 8102, 8540, 5969, 8545], [2366, 5500, 5359, 2474, 3862, 9025, 5969, 7405, 6191, 7033], [5950, 7086, 7593, 5666, 7934, 7574, 4697, 5952, 7491, 8137], [6776, 3052, 5262, 7183, 3502, 2099, 3859, 3739, 7201, 7886], [9051, 157, 4537, 8614, 9027, 6521, 6828, 6876, 8556, 3879], [4391, 7477, 5111, 6818, 4835, 4560, 8240, 1217, 8986, 6506], [6828, 8569, 8026, 3732, 8607, 4178, 5969, 7755, 3042, 6521], [5046, 760, 5920, 2102, 5880, 4178, 8364, 615, 4777, 3444], [8556, 9037, 1345, 1202, 7755, 4166, 2201, 3486, 6521, 3732], [3732, 7035, 8137, 6521, 5719, 4934, 7755, 8607, 4697, 3486], [3095, 8965, 8240, 4180, 8364, 6415, 8734, 9022, 5539, 5862], [8986, 8091, 6221, 3095, 8030, 4166, 9027, 7106, 5862, 9022], [8015, 8995, 8091, 7115, 977, 2324, 5862, 4326, 8030, 8605], [8164, 9037, 9027, 5453, 4166, 5802, 6876, 7586, 6821, 6521], [5548, 7456, 858, 7337, 7561, 4178, 3811, 6998, 7586, 6521], [5780, 5228, 4166, 7111, 2928, 1019, 4138, 2679, 6521, 252], [6446, 1359, 6429, 7868, 4034, 3808, 7245, 7724, 7201, 7876], [8240, 8538, 8883, 8734, 4391, 7598, 6204, 8364, 7574, 3263], [6621, 7102, 8040, 5780, 6521, 5548, 7448, 7337, 3297, 8026], [7086, 8624, 8030, 9022, 7247, 6534, 8605, 631, 4631, 5571], [4396, 7076, 8605, 8607, 7092, 4697, 5969, 5719, 2679, 6521], [7035, 6821, 7815, 7723, 9037, 8387, 7574, 5237, 8364, 7586], [3732, 8137, 7076, 5724, 4396, 3681, 5719, 5920, 6521, 7115], [7491, 8137, 4166, 6621, 5747, 7035, 8996, 9037, 3486, 4697], [5931, 2403, 2099, 5922, 7370, 4592, 1681, 8026, 3046, 7633], [3685, 2925, 704, 6624, 3528, 1497, 2464, 8499, 5237, 7495], [6620, 3465, 8604, 4231, 3680, 7055, 3243, 932, 5920, 2780], [3493, 3890, 5922, 1408, 7549, 7337, 5120, 8026, 3486, 5565], [1023, 9000, 5460, 7229, 617, 6818, 8319, 2518, 8087, 1159], [7586, 6818, 5802, 6821, 2679, 8556, 5952, 5969, 2973, 6521], [6580, 2333, 6186, 8908, 6588, 7833, 4729, 5500, 4510, 6128], [1905, 5936, 5546, 1273, 8091, 6872, 7574, 8026, 7638, 8604], [7086, 5314, 5605, 2229, 7300, 7493, 6570, 7491, 5548, 4537], [5368, 8550, 631, 8545, 4719, 8140, 4911, 6920, 8516, 9022], [5724, 8042, 6054, 615, 2813, 3359, 3645, 2333, 6128, 3732], [8153, 3083, 8287, 7220, 7937, 6881, 8684, 4868, 6236, 5931], [9027, 3083, 5568, 5862, 7485, 8996, 7454, 6260, 7426, 7456], [8996, 6521, 9028, 4166, 5920, 7723, 6221, 9037, 8965, 4697], [8110, 7039, 4689, 7611, 6663, 6521, 3156, 7115, 8347, 8140], [7574, 9049, 5907, 7586, 8102, 7815, 9028, 4178, 8026, 8540], [5939, 5760, 9036, 4351, 6534, 8995, 8520, 8984, 8635, 7247], [4689, 4722, 4592, 7992, 7611, 4441, 3592, 3645, 8313, 8347], [8140, 7092, 4697, 5666, 1186, 8995, 3778, 8585, 8137, 4147], [7495, 8967, 759, 8965, 5254, 9034, 7905, 8127, 6506, 8240], [6649, 5952, 8164, 5950, 5460, 7593, 2464, 9063, 8556, 5257], [4708, 1058, 6785, 6828, 7108, 8556, 4276, 4910, 4136, 3486], [7517, 6262, 6260, 2151, 8635, 7055, 4629, 8569, 3732, 4008], [8087, 7035, 6415, 6064, 7574, 7719, 8364, 3518, 6658, 8734], [7586, 1408, 7574, 3486, 7937, 8102, 6521, 7035, 8550, 8026], [4147, 7553, 2653, 3778, 2925, 6270, 5176, 8996, 4771, 7092], [4156, 6818, 2474, 3478, 8996, 3307, 8240, 6167, 5969, 2973], [1891, 4722, 4403, 4155, 6849, 4728, 8936, 7611, 8347, 5706], [3144, 7489, 2418, 6521, 7035, 8039, 2797, 7723, 3558, 7724], [1228, 8635, 4178, 3042, 8965, 8164, 7285, 6588, 5252, 1094], [4708, 7766, 7574, 7593, 2464, 5952, 2759, 5548, 7034, 8556], [5237, 5262, 7848, 7886, 1931, 8137, 5417, 7086, 8077, 3216], [1332, 8605, 7728, 6521, 5802, 6876, 3142, 7349, 7456, 7324], [6506, 6923, 1908, 7106, 3126, 7285, 6624, 7266, 1345, 6702], [5869, 8063, 3507, 631, 4318, 6920, 5157, 4689, 9022, 8382], [5571, 6909, 6506, 4334, 8091, 4631, 8015, 6415, 8240, 7247], [8545, 8140, 5747, 1298, 7170, 5834, 7723, 5734, 7076, 4536], [8065, 5495, 2901, 4038, 8137, 2033, 1979, 4504, 8347, 4697], [3502, 5758, 4632, 5056, 4826, 3224, 6415, 760, 7471, 6506], [1655, 4697, 6392, 4231, 858, 6679, 8347, 3502, 8137, 3165], [7574, 4773, 4166, 4868, 3836, 7934, 3832, 5571, 8026, 8604], [8936, 8347, 2273, 5719, 6272, 4934, 6506, 8322, 2315, 5969], [5828, 7723, 9037, 7937, 8465, 8208, 6221, 7035, 8102, 4166], [8216, 9049, 2813, 8540, 2160, 4867, 6621, 8026, 7828, 5318], [2346, 631, 4155, 7126, 3559, 8137, 3165, 5719, 6037, 8347], [3592, 7499, 3681, 8347, 7126, 8411, 2822, 7266, 6497, 7115], [8030, 6260, 2679, 4080, 7115, 5219, 8313, 5318, 2822, 6521], [5548, 3359, 8474, 6014, 6818, 1094, 4178, 3042, 9049, 820], [5318, 794, 8313, 5571, 7180, 8411, 1264, 8665, 7266, 7886], [3219, 7942, 4697, 7717, 8287, 252, 4166, 4141, 3558, 7558], [8364, 7340, 7324, 6659, 7815, 8387, 4178, 7575, 1094, 7337], [246, 7035, 6506, 4358, 4391, 4166, 8996, 3732, 5747, 6521], [2639, 6446, 3043, 6998, 6506, 6649, 4396, 8607, 3046, 4347], [5724, 8607, 3330, 6506, 5719, 5969, 7755, 3732, 6521, 4934], [6420, 1298, 8545, 1856, 4023, 8550, 617, 6078, 7611, 8415], [3592, 2582, 8107, 8065, 6649, 2464, 8137, 1246, 4697, 7717], [1202, 5485, 7755, 6521, 8569, 4903, 8965, 4934, 858, 3732], [6182, 1378, 1853, 3681, 5548, 4708, 4396, 8411, 7574, 5976], [6937, 6621, 8240, 6692, 1013, 4354, 1291, 5571, 8026, 6521], [8347, 7788, 5724, 3732, 8137, 8965, 6506, 858, 4934, 4903], [7979, 5106, 8137, 4773, 3486, 3656, 8716, 3126, 4038, 6193], [3819, 6087, 7713, 7097, 1029, 3938, 5559, 6739, 4574, 3725], [3263, 8140, 4166, 6204, 4528, 9004, 8996, 8240, 7574, 8364], [8347, 2937, 7393, 7788, 2797, 8137, 5314, 8077, 6276, 114], [5931, 6399, 3725, 8777, 8313, 8653, 7828, 1703, 7102, 4246], [6128, 7766, 7611, 7229, 4224, 1202, 8283, 4934, 617, 6649], [8241, 7033, 7723, 9023, 8963, 7324, 7396, 9037, 6876, 5802], [8965, 5964, 7454, 4178, 5548, 5457, 6521, 3732, 3042, 8026], [6027, 2822, 7266, 7886, 7115, 3078, 3811, 1264, 3165, 3502], [5225, 9036, 7266, 7611, 4166, 7722, 7115, 8965, 8364, 7574], [4217, 7451, 7248, 8411, 7245, 3216, 4629, 7035, 3486, 5549], [4166, 4903, 7724, 1223, 6778, 4424, 3558, 4934, 7717, 3219], [8605, 8241, 4166, 2346, 6872, 8205, 6534, 2679, 6521, 2031], [5032, 1918, 6767, 6679, 8383, 6276, 3737, 704, 8385, 7717], [8164, 8133, 6128, 8496, 1097, 8963, 4749, 5707, 7593, 7173], [5970, 6177, 3705, 6180, 7106, 8989, 5500, 4358, 6818, 8550], [4697, 6270, 3145, 6145, 5549, 6951, 9028, 2163, 3486, 2925], [3142, 6521, 5802, 8605, 7454, 8357, 7349, 7456, 7324, 8603], [6848, 6539, 4347, 4697, 6554, 6998, 7140, 2441, 9004, 7574], [4773, 6233, 3502, 7115, 1891, 4080, 6262, 8313, 8030, 6260], [6270, 7717, 2719, 3284, 6221, 5886, 1779, 1246, 5346, 8465], [4038, 8137, 5417, 4953, 3224, 8347, 5706, 6624, 8313, 1979], [8607, 7574, 3761, 6261, 2441, 5719, 4162, 3859, 8137, 4697], [1655, 8030, 3165, 2414, 6260, 8603, 5706, 8605, 4903, 858], [7485, 8965, 4178, 6521, 8603, 3042, 6506, 7456, 858, 4934], [8054, 6204, 6393, 9035, 3840, 9022, 8516, 8550, 8087, 4358], [2772, 8716, 4334, 8030, 3732, 7115, 8635, 1701, 8277, 4008], [7934, 3725, 7143, 5032, 7835, 4539, 6276, 3859, 4868, 5571], [631, 8241, 7491, 8140, 8240, 8986, 6849, 4155, 9022, 3263], [6221, 5952, 8996, 4166, 7035, 5920, 4697, 5237, 8364, 7574], [7092, 4396, 5548, 7593, 5726, 5666, 5952, 7491, 5950, 7574], [7140, 2878, 5262, 8364, 5920, 3034, 8734, 3859, 5237, 1246], [3021, 8102, 2465, 6415, 7939, 3832, 8180, 8208, 8604, 3083], [2679, 8241, 5719, 8996, 8605, 6821, 7076, 5834, 7586, 6521], [6506, 7699, 5758, 5571, 4128, 2775, 4773, 8313, 1013, 8411], [5314, 6186, 7934, 3732, 3458, 3486, 4867, 6236, 4868, 8496], [8605, 2719, 6078, 8382, 8569, 8241, 5969, 5485, 6521, 5802], [6144, 8967, 7994, 8347, 8585, 8137, 704, 8996, 4326, 4697], [7050, 8293, 4345, 6191, 7937, 4773, 8908, 6865, 3704, 8026], [1856, 7248, 8411, 6236, 5780, 6521, 5876, 5314, 7102, 6276], [1988, 7755, 5834, 6078, 5719, 7586, 4178, 8569, 6521, 617], [8411, 7886, 8803, 3832, 3681, 1948, 7064, 5706, 4643, 3739], [8026, 8208, 6491, 7106, 8102, 3021, 8251, 4868, 8091, 8550], [5463, 6818, 6876, 9028, 8550, 9022, 8965, 6828, 5905, 8986], [3458, 6521, 7969, 6236, 8101, 7115, 6183, 2346, 8605, 4868], [5346, 3377, 8550, 6221, 8465, 6533, 4061, 6872, 4178, 6659], [4697, 4334, 9036, 5920, 7115, 6221, 8137, 8635, 9027, 8030], [5719, 4631, 4877, 631, 8137, 5630, 3859, 8347, 4697, 7717], [8140, 8996, 8385, 4080, 7717, 8087, 5962, 9022, 3095, 704], [5706, 6282, 4358, 8208, 3739, 4166, 6579, 8991, 8936, 6204], [8986, 8603, 8996, 7485, 4170, 8965, 2414, 4391, 6204, 5706], [8623, 4094, 3984, 4087, 6037, 7491, 9008, 4537, 8382, 7086], [8347, 7491, 2315, 5952, 4396, 8996, 8556, 6521, 4697, 8385], [8411, 5972, 6923, 6521, 8026, 4934, 7755, 3046, 1291, 5047], [4178, 7471, 4671, 3224, 3518, 3732, 3371, 8965, 4903, 3042], [7128, 2026, 4138, 6191, 6872, 6233, 7287, 6236, 5931, 6260], [7717, 2055, 6821, 3737, 3859, 2679, 4539, 5952, 7438, 4697], [3734, 7456, 1350, 5969, 525, 7340, 7574, 7549, 8545, 9025], [3592, 6399, 7545, 6872, 7115, 6221, 6521, 2822, 4155, 4166], [2539, 834, 9004, 4542, 5337, 6876, 8140, 7456, 7396, 1977], [1859, 8906, 5931, 3348, 8137, 3371, 8026, 8313, 4162, 6569], [8042, 4867, 3705, 4536, 8540, 7454, 8550, 8545, 7394, 7432], [3079, 8645, 3348, 2414, 7815, 2925, 4347, 7229, 4729, 6506], [7035, 4877, 599, 8385, 3371, 5719, 8347, 8313, 4934, 6521], [1489, 6454, 3954, 6805, 1023, 9004, 7491, 4038, 7495, 7456], [760, 7064, 4632, 8313, 3224, 7285, 6506, 7471, 7035, 3444], [5780, 5869, 7337, 3330, 3371, 7035, 8465, 2099, 6521, 5219], [3371, 8607, 3444, 8453, 7035, 3042, 8026, 4178, 2813, 3732], [6669, 6951, 8734, 2112, 7143, 5571, 2925, 3832, 8665, 8883], [3165, 5549, 2925, 3486, 8996, 8585, 8347, 7717, 8137, 4697], [5288, 7337, 6191, 6905, 7840, 4347, 820, 7549, 7456, 8026], [8908, 7066, 8164, 4359, 2163, 2746, 7173, 6221, 9037, 9028], [8728, 6624, 6261, 5318, 8480, 7034, 7886, 8835, 7180, 8665], [7755, 8137, 8556, 5548, 5314, 8607, 8347, 4697, 3486, 6521], [525, 7717, 8965, 7035, 7586, 5719, 8996, 9028, 8607, 4697], [7266, 7886, 3558, 1948, 7143, 4212, 8347, 4697, 7717, 3859], [6521, 1350, 9037, 4217, 5258, 8496, 9023, 4166, 8550, 7454], [5719, 5219, 6260, 4166, 9037, 2679, 4697, 8347, 7717, 6521], [4868, 4138, 6915, 3219, 5165, 7111, 6244, 4155, 2203, 4180], [8429, 4697, 1891, 8817, 2925, 3165, 7558, 2780, 4777, 5920], [3219, 4147, 6227, 4697, 5653, 4771, 9037, 2349, 1186, 5237], [5721, 4620, 8030, 4080, 9027, 7491, 4087, 9022, 631, 3486], [3734, 6497, 7574, 8411, 4396, 7499, 9044, 3359, 5952, 3029], [4617, 8607, 6037, 7499, 5494, 3042, 6521, 2346, 6011, 8411], [7605, 6260, 3263, 7115, 9022, 7092, 7491, 9036, 9027, 8995], [2333, 7363, 4903, 4934, 5485, 7438, 2928, 858, 6998, 6521], [2973, 6015, 8430, 6858, 6891, 4276, 5798, 2346, 8026, 6521], [7723, 7229, 4347, 6649, 7035, 8137, 8313, 3811, 7815, 7128], [8985, 7719, 7035, 5124, 1376, 6221, 620, 9033, 3832, 4166], [7988, 7405, 4773, 8026, 1983, 6521, 8965, 9037, 7035, 9028], [7055, 3088, 6569, 5342, 8984, 924, 3486, 4697, 3559, 8967], [6998, 5780, 7432, 7354, 8026, 6521, 8313, 6845, 7448, 7337], [4217, 5311, 6624, 7574, 2325, 7717, 4743, 4166, 5500, 5952], [5706, 5560, 6389, 7361, 4155, 2754, 4170, 4391, 4354, 8986], [1988, 1288, 2901, 2653, 8299, 8415, 8835, 7229, 5936, 4038], [3206, 6272, 4140, 2494, 5946, 3918, 8015, 3624, 6881, 8091], [7456, 7586, 6821, 7722, 7076, 7574, 6828, 6521, 5834, 5747], [7106, 6236, 3219, 7875, 8241, 6849, 4868, 9022, 4155, 6262], [3859, 8015, 6758, 5200, 8137, 7815, 858, 4162, 1655, 4697], [1979, 3371, 8607, 5950, 5056, 615, 6506, 6649, 4697, 8347], [5181, 6649, 3086, 6818, 4528, 1795, 2464, 2973, 5950, 631], [4773, 8313, 4826, 7994, 1013, 1751, 5791, 5880, 8030, 7086], [7035, 5120, 8347, 8607, 8965, 6506, 5920, 8313, 6521, 7115], [1655, 8855, 5200, 3859, 8883, 8313, 3284, 4882, 6260, 6227], [3017, 8556, 6506, 1408, 8996, 8026, 8607, 7035, 3486, 4697], [2822, 1766, 7126, 5549, 3165, 4934, 7717, 4048, 1948, 3592], [3862, 4391, 4528, 6491, 4155, 3263, 8516, 6204, 4166, 5952], [7143, 5262, 3933, 2163, 6260, 3859, 6906, 6512, 4697, 7128], [4391, 3263, 8550, 7937, 9037, 4166, 8240, 8986, 8241, 4155], [2403, 5120, 6573, 4559, 7102, 5964, 7266, 3126, 2346, 7180], [3238, 2315, 3219, 8208, 3558, 7723, 4697, 7558, 4934, 5708], [8347, 7405, 1766, 6998, 858, 6821, 7265, 9037, 3592, 7940], [7245, 5138, 2423, 7729, 6526, 2925, 5225, 4048, 7035, 8665], [8996, 3029, 5952, 2464, 1246, 5462, 9025, 6906, 2973, 4697], [5457, 5565, 6569, 3330, 7994, 8607, 8313, 6649, 7038, 3559], [6818, 4178, 6828, 8129, 9004, 7561, 9042, 857, 5802, 7456], [1503, 5219, 9037, 6262, 7350, 4217, 4531, 7431, 6236, 5724], [3245, 3452, 4166, 1023, 5952, 7324, 4358, 1332, 8364, 7574], [7456, 6805, 4953, 8110, 3025, 2436, 7491, 4391, 6011, 3147], [8293, 5320, 5708, 4697, 665, 1345, 932, 4166, 6221, 6620], [1102, 1851, 5559, 7126, 906, 3165, 5920, 6037, 631, 2346], [6521, 5724, 3811, 5219, 8079, 8205, 1870, 3165, 2822, 4903], [3822, 6915, 7611, 4178, 8060, 1949, 7517, 6078, 7411, 6320], [4879, 9023, 834, 8995, 4118, 8635, 8966, 1977, 3794, 7456], [3095, 1157, 5513, 706, 4180, 5720, 6876, 9024, 7717, 8087], [6105, 6573, 5791, 3029, 5559, 8605, 6497, 7557, 5920, 8607], [1223, 7106, 9036, 8996, 8102, 6204, 9022, 6521, 8091, 4166], [5734, 8717, 631, 2719, 4147, 6663, 8995, 1294, 7092, 7108], [7035, 5556, 4877, 8140, 5318, 8030, 7106, 7722, 7115, 8137], [7115, 9037, 6186, 246, 5500, 4155, 7717, 4166, 4217, 8137], [8261, 8208, 8293, 3444, 3177, 3021, 6865, 6415, 8240, 6506], [5952, 8164, 1023, 9037, 7722, 7574, 6818, 8364, 8963, 6821], [3656, 3486, 6774, 8604, 2163, 6236, 4697, 3307, 7089, 6276], [4180, 7035, 4166, 6245, 3219, 6236, 6262, 6282, 3095, 6260], [3219, 8411, 1757, 8091, 7247, 5920, 8137, 3859, 5742, 4326], [6229, 8607, 8287, 9025, 525, 5462, 2925, 7339, 4697, 8104], [2346, 5724, 6236, 8496, 7934, 4868, 3486, 3963, 8550, 4629], [4358, 5719, 4697, 2679, 7143, 5318, 7828, 8605, 6521, 3859], [8287, 6204, 1099, 3452, 8214, 4358, 5969, 8389, 8713, 6525], [8411, 2350, 8191, 5946, 3145, 4867, 8026, 3704, 6236, 4868], [4528, 4166, 7106, 7266, 8411, 4773, 8607, 7574, 6521, 8026], [7835, 3832, 5558, 8793, 8015, 2112, 8768, 8734, 8883, 820], [7364, 5346, 5886, 2163, 5678, 6236, 4629, 3486, 8465, 5536], [8039, 3017, 8607, 8556, 7769, 3046, 7354, 4934, 6521, 8347], [3311, 4687, 4629, 4008, 9023, 8635, 1503, 7454, 9027, 6260], [4719, 7969, 5862, 8545, 7491, 4080, 4620, 8091, 631, 9022], [7491, 7929, 5662, 5952, 7495, 4218, 2421, 4536, 8556, 6506], [8974, 8991, 8972, 3656, 9022, 8996, 4697, 7491, 8137, 3486], [3732, 3624, 6027, 8285, 8481, 3739, 5946, 4048, 4760, 5536], [5952, 6821, 2386, 1217, 8542, 1985, 6204, 9015, 4835, 4391], [7115, 6227, 6521, 8995, 8605, 7143, 2679, 4697, 6260, 3859], [7108, 1058, 1845, 4592, 7092, 4288, 4318, 8936, 3559, 8382], [6805, 4188, 4868, 5257, 3147, 676, 2436, 6026, 6261, 6011], [2716, 2535, 6879, 6221, 3083, 2099, 6920, 5791, 4697, 5565], [7722, 5457, 3147, 3348, 6805, 4080, 5747, 8313, 6521, 7456], [1273, 8636, 8679, 8603, 4351, 5485, 4934, 857, 858, 7561], [7937, 8240, 3862, 6998, 7426, 4138, 4155, 7287, 6872, 3263], [4396, 4697, 7133, 7339, 5338, 7574, 3029, 4347, 525, 9025], [5719, 8411, 3832, 4539, 8665, 7076, 5952, 4166, 7574, 6521], [8411, 5314, 3681, 6144, 5888, 2716, 8137, 8347, 5791, 4697], [1202, 5931, 8453, 7902, 3732, 4934, 7815, 7490, 4178, 8026], [8087, 6981, 4528, 7719, 4547, 631, 4620, 5920, 8550, 9022], [8240, 4166, 8137, 8996, 5209, 6415, 7574, 6506, 2441, 4697], [5173, 2518, 7574, 6981, 4815, 4217, 3486, 8102, 8550, 8545], [4087, 5562, 5638, 8030, 9028, 4162, 1751, 8079, 3486, 4903], [5986, 2925, 7815, 6777, 5719, 7128, 8137, 2163, 6893, 2716], [4777, 9042, 5687, 3518, 6025, 858, 1270, 7411, 1766, 2414], [4877, 4934, 2813, 2822, 6521, 4903, 8481, 3238, 5314, 3732], [2683, 8996, 8042, 6204, 7723, 8965, 9028, 4352, 1503, 5920], [3243, 6262, 6260, 3147, 7115, 1878, 8030, 3165, 4868, 2393], [4629, 3493, 3732, 7454, 7755, 7432, 5548, 6521, 6843, 8026], [3486, 2455, 7247, 6490, 4477, 4048, 3732, 6702, 4611, 3712], [7323, 3297, 7456, 1977, 8569, 5548, 5969, 5802, 5485, 6521], [3885, 7262, 1988, 4537, 7766, 856, 2940, 6521, 8382, 5952], [3542, 4867, 4217, 246, 8077, 5225, 3486, 1298, 3732, 8137], [3770, 9008, 4400, 8520, 3993, 5500, 7086, 7833, 2928, 5571], [8996, 7717, 8550, 6821, 7586, 6204, 5802, 4749, 2719, 8963], [3652, 6497, 5833, 8501, 820, 4567, 7886, 5262, 8734, 3859], [1442, 1579, 7285, 8415, 1345, 1202, 6506, 4934, 6521, 3732], [6260, 831, 4613, 1983, 9027, 6541, 5862, 7840, 3083, 8240], [2474, 4877, 8777, 4048, 5834, 5931, 3219, 7937, 4358, 7828], [5666, 7574, 8883, 525, 5237, 6580, 6758, 8137, 2148, 4697], [5565, 4038, 6128, 7285, 6683, 3783, 8137, 8313, 6624, 5120], [617, 8540, 5485, 6821, 5952, 5969, 1988, 6078, 7790, 7092], [7723, 8614, 7035, 6282, 8086, 3164, 6506, 8965, 8030, 5920], [2716, 1905, 6204, 7969, 7092, 3778, 2901, 8299, 7574, 7611], [3043, 3486, 4147, 7229, 2929, 3859, 4697, 5952, 6821, 7717], [8313, 3371, 5219, 6521, 7035, 7717, 4903, 5719, 8347, 8137], [9025, 9015, 5952, 8382, 5124, 6014, 5907, 5704, 8963, 6818], [6828, 4166, 4218, 5747, 8986, 6821, 6818, 6521, 5952, 4391], [4188, 8516, 8057, 7266, 6848, 4528, 9046, 4574, 8054, 6232], [7937, 4903, 9028, 5811, 8641, 4729, 9000, 5253, 7905, 8026], [6778, 8936, 8153, 8208, 8240, 4934, 9037, 8965, 2273, 7937], [4034, 7932, 9010, 4048, 3917, 5724, 4934, 5719, 4629, 7128], [3704, 8240, 8251, 5983, 8430, 708, 8091, 6415, 3021, 6506], [8331, 3528, 4760, 8985, 5880, 613, 4103, 3052, 6872, 8026], [4903, 4351, 8137, 8347, 858, 5314, 7491, 5571, 3042, 4697], [5901, 5936, 5089, 7485, 9037, 1202, 4166, 7574, 9004, 6998], [7549, 3614, 7133, 3890, 9004, 7900, 831, 8026, 7959, 9034], [8653, 6193, 7836, 3764, 8148, 5262, 1186, 1096, 3725, 9063], [5706, 8984, 8569, 6549, 3732, 4048, 8520, 4877, 3592, 3165], [2380, 5859, 5531, 4671, 6621, 8607, 1013, 7491, 3042, 8026], [8965, 906, 8995, 7723, 8980, 8140, 1891, 4009, 7456, 5237], [8635, 3820, 6128, 5724, 4217, 617, 3732, 1298, 8137, 3486], [7324, 8589, 8965, 8026, 8364, 7840, 4773, 8240, 3518, 7035], [2441, 1698, 8658, 7835, 5726, 6665, 4276, 8376, 8835, 3832], [5876, 8016, 4697, 1246, 3486, 9027, 6951, 8635, 6221, 3083], [8347, 8293, 2634, 8026, 7755, 4903, 6521, 3046, 6506, 4934], [3938, 6533, 5680, 4941, 6818, 5273, 7521, 5346, 6143, 8550], [7803, 6204, 4358, 4750, 5549, 3043, 1073, 6579, 6821, 5301], [3043, 5258, 6821, 8164, 9037, 6128, 8987, 7940, 4217, 3359], [9028, 3083, 4125, 9004, 7432, 8240, 7937, 5969, 8026, 7454], [2873, 4038, 1023, 7551, 1979, 9004, 7324, 7574, 7340, 7456], [9033, 5704, 2674, 8995, 1976, 8883, 8364, 8734, 5920, 5237], [8607, 7115, 9037, 9027, 7586, 7035, 6521, 8030, 6260, 8965], [6906, 3284, 7092, 4697, 2878, 6888, 2594, 906, 4198, 6115], [6872, 5508, 6221, 8364, 7934, 7128, 8137, 6758, 7815, 3811], [7180, 5726, 8665, 8908, 8364, 7574, 8855, 8376, 6221, 7115], [7717, 8605, 5719, 4697, 2679, 4166, 6260, 3859, 7143, 6521], [6572, 8364, 5952, 6998, 7266, 8855, 7045, 4536, 7611, 7574], [4396, 9030, 3732, 8986, 9036, 5209, 4903, 3042, 8965, 6506], [8986, 8981, 9030, 8963, 9000, 4166, 5747, 9024, 8996, 9037], [5032, 4697, 2315, 7076, 1350, 5719, 7035, 8996, 8545, 8385], [3266, 7092, 1102, 8137, 2393, 4868, 3165, 6663, 3560, 6262], [4326, 3859, 4147, 4155, 6262, 7247, 9022, 3095, 3219, 7717], [4366, 7033, 4697, 6191, 8287, 4166, 3859, 2679, 3862, 252], [6399, 6506, 6692, 8240, 760, 4166, 3558, 8430, 6415, 3862], [307, 5721, 4080, 6828, 7035, 5370, 3115, 5946, 3486, 3787], [7151, 3491, 1646, 3147, 4877, 3165, 4048, 4903, 114, 2822], [7180, 7633, 2346, 1332, 4913, 6573, 6179, 6183, 8411, 2403], [5666, 4155, 7076, 7092, 5952, 8137, 4396, 4147, 1186, 4166], [8465, 3732, 7035, 8496, 4166, 5969, 8026, 8550, 6521, 3486], [7828, 3219, 6262, 1891, 5833, 3165, 8605, 6260, 4567, 3859], [2226, 5436, 5952, 2822, 4358, 6180, 7611, 7266, 8028, 6027], [3624, 4773, 6876, 8102, 7723, 3095, 7719, 8550, 7441, 7035], [4136, 3734, 2676, 3923, 3301, 5734, 8932, 8556, 1684, 6828], [8540, 3042, 5318, 7574, 4178, 7722, 7586, 617, 6821, 6521], [7108, 7495, 5462, 4147, 5032, 4697, 7092, 4396, 8385, 4539], [8986, 8496, 3486, 9024, 9027, 8967, 8963, 9023, 2719, 8635], [7687, 7937, 4441, 9037, 5724, 1345, 4166, 7106, 8241, 4155], [3219, 3458, 4108, 5248, 4166, 3095, 6236, 6221, 5876, 3083], [2679, 4934, 7574, 4166, 9037, 6998, 7586, 8026, 7561, 6521], [8777, 3139, 8835, 2441, 1905, 4038, 8676, 4537, 8480, 6665], [7441, 7432, 9028, 7454, 5905, 7937, 9023, 3083, 3125, 9037], [7173, 7875, 4147, 5734, 6026, 3560, 4048, 6393, 2791, 7724], [5962, 7489, 4002, 2797, 3783, 1298, 8137, 2716, 3486, 1186], [7103, 3224, 9028, 7454, 7324, 8965, 9004, 6260, 8313, 7456], [5176, 2392, 8540, 5558, 6980, 2683, 5920, 4536, 3832, 6204], [9037, 668, 6506, 2901, 6624, 8102, 6415, 4697, 4038, 8996], [8605, 7283, 5237, 5387, 5920, 4156, 6906, 906, 4180, 3859], [3371, 3486, 4441, 9037, 8635, 8996, 8965, 8347, 4697, 8137], [4528, 8240, 6818, 8054, 9022, 5035, 7803, 9046, 4391, 6506], [6160, 4407, 8137, 4697, 3820, 7128, 8607, 3917, 2366, 5719], [8550, 4038, 7549, 8538, 2917, 1298, 4879, 7574, 8102, 9028], [6828, 8164, 5952, 9027, 8556, 8932, 4537, 3794, 9024, 1977], [1908, 1378, 7175, 1754, 1777, 6923, 4719, 1158, 1345, 4868], [7586, 7551, 7815, 7574, 993, 7561, 7575, 7840, 8607, 8026], [7717, 4103, 3558, 8925, 4773, 4424, 3859, 7035, 4697, 4180], [7755, 3656, 8293, 6290, 8604, 8026, 4388, 1273, 708, 8240], [7937, 7324, 8965, 5457, 7929, 6506, 8313, 4934, 7431, 8153], [4697, 5969, 3219, 2518, 6204, 8102, 8287, 7717, 4166, 8996], [2160, 7545, 8996, 6260, 3681, 8883, 7076, 4697, 4539, 4396], [9037, 8986, 8565, 8240, 7431, 8665, 7929, 4773, 7324, 4180], [4536, 7480, 4217, 8283, 4743, 6521, 5952, 2184, 4166, 6998], [3592, 4953, 5666, 8241, 5560, 4351, 4155, 8986, 8965, 5706], [5565, 6015, 4441, 8965, 6221, 8635, 8967, 2878, 4592, 4697], [8091, 4178, 6659, 6818, 7106, 7861, 631, 9022, 5368, 8550], [6521, 7431, 7035, 8556, 7033, 9024, 8987, 7940, 7405, 9037], [8734, 6415, 7840, 4872, 8287, 7549, 5584, 7456, 8015, 8240], [4934, 8429, 6906, 525, 6778, 5719, 8347, 7339, 9025, 4697], [5747, 6828, 9034, 2163, 4396, 4729, 4539, 5734, 7160, 3307], [6382, 2346, 4903, 3559, 8347, 4351, 3330, 3042, 6521, 4934], [5047, 5124, 4550, 6415, 4631, 8263, 8091, 8603, 3042, 6506], [7611, 5952, 8241, 7106, 7574, 5834, 617, 8550, 4166, 6521], [8013, 6828, 8585, 2018, 856, 2629, 7769, 8967, 7485, 2139], [5337, 3095, 6876, 9037, 7454, 7432, 6221, 7441, 7389, 3083], [4162, 6037, 786, 8137, 8205, 4347, 7788, 8347, 8313, 4903], [4396, 1013, 3359, 8079, 5032, 3348, 6502, 1898, 8313, 8607], [7907, 4934, 6506, 4048, 3732, 6492, 7803, 3042, 6660, 8603], [8556, 557, 5500, 8271, 9008, 5969, 1489, 5548, 6692, 5952], [3963, 8789, 2393, 4089, 6236, 7995, 7287, 6052, 4868, 8015], [4697, 7574, 8137, 8411, 3778, 6920, 7969, 3734, 5952, 4166], [8465, 4547, 6778, 4746, 6029, 3366, 7517, 3052, 3811, 4934], [6506, 8208, 6778, 7126, 5724, 6262, 3165, 4934, 4048, 3732], [2465, 9028, 3083, 7568, 4771, 8016, 7432, 7508, 4536, 898], [5795, 759, 3840, 7723, 1680, 7324, 1901, 6506, 8140, 907], [7574, 8996, 9022, 8986, 4155, 8241, 8965, 8995, 3263, 9036], [8632, 6485, 760, 8030, 8863, 3279, 4166, 7247, 7717, 4155], [8012, 1751, 4903, 6437, 1218, 7393, 4531, 8965, 5237, 8270], [8033, 5262, 7886, 6649, 5291, 5791, 7086, 3216, 2099, 3592], [6375, 2940, 1977, 7265, 8347, 3923, 3859, 4537, 5460, 4697], [4903, 9037, 9028, 4934, 5747, 7456, 858, 7035, 6828, 6521], [8585, 3486, 7393, 5460, 8030, 6211, 7115, 1186, 6624, 8137], [5704, 6014, 9030, 5124, 5035, 5584, 7247, 831, 9046, 8240], [4212, 4166, 3859, 4147, 252, 5952, 4539, 4537, 4697, 7143], [5457, 8607, 3486, 5802, 7769, 5719, 6828, 7035, 6521, 4934], [2414, 8432, 8054, 7723, 5920, 1901, 3502, 1891, 3165, 5237], [4166, 7717, 8208, 6506, 7035, 9022, 3732, 4697, 8965, 8996], [4404, 1218, 8972, 8965, 2780, 4903, 6549, 3732, 4048, 8569], [4004, 3656, 6624, 665, 4038, 8991, 4001, 8665, 6193, 6620], [7103, 3706, 3917, 8453, 7723, 8329, 8313, 7432, 6683, 7574], [599, 8347, 4441, 7471, 6649, 7717, 3558, 8465, 6778, 4934], [7035, 4773, 6828, 7586, 7456, 8026, 9028, 9037, 7454, 6521], [4835, 2759, 8164, 7976, 1977, 6044, 2374, 8963, 6821, 7960], [8607, 4773, 8186, 9049, 7934, 2679, 6014, 6521, 7456, 8026], [6739, 9049, 2679, 8550, 4166, 5288, 7454, 8241, 5969, 6521], [4536, 8987, 7574, 8996, 8140, 5834, 6828, 5747, 7076, 7456], [9028, 6052, 5920, 1503, 4347, 4872, 5996, 8965, 5237, 7815], [2629, 8967, 4697, 3307, 4038, 6201, 7485, 2057, 1298, 3486], [8607, 4903, 8313, 7431, 8030, 4773, 7035, 4396, 8965, 6506], [3219, 8604, 6262, 3681, 7939, 968, 6260, 2393, 3243, 3165], [8665, 3263, 4510, 6031, 8680, 8883, 8480, 8866, 4605, 8908], [4697, 6758, 8996, 9037, 4748, 7574, 6830, 2148, 9028, 9025], [2160, 3993, 8604, 5706, 8540, 5334, 4656, 6521, 5969, 5047], [8137, 704, 5752, 1060, 7431, 8347, 7940, 9063, 8313, 4441], [7456, 7586, 8996, 9028, 7331, 7574, 7575, 9000, 7558, 7723], [7596, 9037, 8981, 9030, 8140, 8965, 8980, 8364, 8240, 8734], [8385, 3685, 3452, 907, 5301, 3502, 4080, 6497, 8087, 3518], [3330, 1651, 6429, 1291, 3042, 7766, 1859, 4934, 5630, 4903], [5568, 7431, 1983, 6260, 8180, 1875, 7426, 2160, 5931, 3083], [9042, 6260, 7940, 9028, 9004, 5802, 9024, 7405, 9037, 7456], [7035, 4697, 9028, 7318, 8137, 6262, 5719, 8208, 5962, 3486], [6821, 2315, 9025, 2679, 3486, 8607, 7717, 5719, 4934, 4697], [5417, 9024, 2033, 3685, 7545, 2441, 3139, 665, 7086, 4697], [3793, 2177, 2811, 3697, 7876, 938, 3783, 6236, 7069, 4048], [4008, 9015, 8984, 8980, 9036, 5920, 9030, 9028, 8967, 8965], [6204, 1698, 7723, 2314, 7076, 7558, 7815, 8102, 5920, 7574], [6776, 8653, 7115, 5291, 6260, 6233, 8313, 7086, 5417, 6227], [5719, 6282, 2679, 1891, 7143, 3681, 5920, 6521, 8605, 6260], [3999, 4922, 5291, 8717, 5920, 2764, 8995, 1691, 7086, 8635], [2139, 8605, 7840, 6446, 8603, 3301, 1760, 5920, 7755, 8607], [3359, 1217, 8385, 8545, 8556, 6506, 6828, 4391, 5779, 5969], [1655, 8600, 6872, 3139, 8205, 3686, 5417, 7139, 7086, 2441], [8293, 2312, 2925, 7471, 2398, 5828, 8499, 7553, 898, 9028], [9049, 8026, 5969, 5548, 5531, 8717, 5719, 6521, 8605, 2679], [8995, 4697, 4391, 5969, 4828, 9027, 7003, 7717, 8996, 7247], [5706, 6276, 6260, 7545, 4166, 9027, 1983, 3263, 8240, 4155], [6054, 4672, 8411, 3486, 4395, 7248, 4629, 4867, 1073, 5549], [4605, 1291, 5928, 6469, 1073, 5124, 7190, 5536, 3307, 7803], [7106, 7574, 5952, 8241, 8996, 6849, 3263, 4166, 6521, 4697], [1503, 7431, 3348, 7426, 7089, 7350, 3639, 6193, 8137, 1212], [7287, 3052, 1131, 2346, 8026, 5719, 8465, 8411, 252, 6872], [4547, 594, 6881, 8284, 5565, 2464, 7118, 5504, 7038, 631], [8965, 9037, 9028, 5952, 4697, 7574, 9027, 8996, 6521, 4166], [3279, 1186, 3859, 4697, 7717, 2033, 5500, 4166, 4155, 3219], [8987, 5237, 1978, 8965, 8980, 7937, 9000, 9028, 7687, 9037], [5549, 7828, 3078, 8411, 1073, 2716, 770, 8764, 7069, 5436], [8411, 968, 7574, 8028, 8016, 5719, 3917, 3681, 2716, 4771], [8313, 4773, 8996, 4166, 9037, 8965, 4697, 6521, 7723, 7035], [2813, 7454, 4868, 1870, 5219, 6236, 3147, 2772, 7115, 2822], [7969, 5630, 4877, 7115, 3021, 5318, 6521, 8030, 8091, 7106], [4358, 968, 6506, 3275, 5719, 8411, 7069, 3704, 8028, 6027], [9037, 8550, 9036, 8465, 7934, 8496, 9028, 6221, 8137, 3486], [3219, 7035, 7909, 3284, 6260, 820, 7201, 8734, 8665, 7521], [8102, 4528, 8550, 3821, 5539, 8996, 7574, 8364, 4166, 6204], [7717, 8465, 3732, 5219, 5780, 7111, 6983, 3486, 6521, 7035], [5556, 4166, 4903, 8469, 7722, 7035, 6521, 8030, 7886, 5318], [5630, 3216, 617, 6128, 7245, 3486, 5529, 8496, 8465, 6702], [7719, 1029, 6776, 5707, 620, 3811, 5833, 2894, 7886, 5262], [8967, 8996, 8984, 9024, 8382, 2441, 1246, 2925, 9025, 4697], [7788, 6460, 5214, 3348, 5602, 7300, 4162, 307, 3486, 9028], [3297, 3042, 8972, 1977, 4903, 857, 6521, 6828, 7876, 6818], [1157, 9037, 7723, 7454, 4166, 7324, 7432, 7035, 6260, 6521], [7722, 9028, 9042, 3857, 4697, 7574, 8996, 8540, 7815, 8102], [5936, 2421, 2465, 8996, 8813, 7485, 7574, 6204, 5726, 4038], [3268, 932, 3739, 3745, 5736, 8569, 8605, 7055, 7755, 5920], [5747, 6821, 8989, 8241, 4877, 6521, 5318, 4155, 4358, 2822], [7039, 631, 4689, 4166, 7143, 3592, 3507, 3095, 6876, 7717], [4773, 2229, 6052, 8496, 3458, 4166, 7934, 6221, 6236, 8026], [2653, 3043, 5460, 7266, 6270, 7723, 6572, 1186, 7229, 5237], [3450, 1408, 4528, 7937, 4910, 1345, 5969, 2973, 8026, 3486], [6828, 3149, 7876, 5828, 7574, 6818, 1571, 8026, 4048, 7575], [3307, 857, 6211, 6270, 6828, 9028, 8987, 2455, 3486, 9000], [968, 2393, 5306, 7350, 5124, 9033, 4539, 7069, 7305, 4396], [3156, 6227, 2349, 3794, 8963, 1977, 4155, 9015, 5666, 4147], [5536, 5946, 3348, 3787, 9000, 5747, 3486, 6828, 4080, 4048], [6261, 5225, 4632, 5334, 3147, 1298, 8908, 6211, 676, 4038], [3433, 6204, 8803, 4352, 1157, 4358, 7183, 8480, 8665, 6624], [4903, 9028, 7035, 6521, 6621, 9027, 9049, 7491, 4773, 8026], [8937, 7394, 5834, 3953, 7456, 6521, 7324, 7418, 4536, 5734], [2822, 6236, 2772, 4155, 246, 4868, 7350, 7115, 3147, 7454], [8251, 7840, 7549, 4773, 8091, 7035, 8180, 7937, 8102, 8026], [9027, 8963, 1246, 8974, 7717, 9000, 9037, 8996, 4166, 4697], [6828, 6521, 7354, 5734, 1976, 5905, 8241, 8986, 6998, 6818], [8556, 4697, 5969, 6828, 6521, 7755, 3486, 4934, 8026, 8607], [6262, 4155, 7995, 8241, 8569, 5747, 5719, 4903, 1298, 5834], [7755, 7267, 4903, 7245, 8607, 3732, 4934, 7035, 8026, 3238], [620, 3458, 7934, 3219, 6260, 6233, 6262, 6776, 8030, 6236], [7586, 6659, 6521, 6506, 6981, 6204, 7035, 3518, 4358, 8550], [8065, 8364, 8164, 7586, 7593, 5952, 9013, 7574, 8963, 6821], [2674, 2759, 6875, 4147, 2653, 8077, 2797, 8013, 6270, 2539], [8240, 7092, 4719, 8986, 6506, 3042, 8995, 9034, 631, 7491], [8967, 8963, 9037, 9000, 9030, 8996, 3513, 4697, 8287, 7717], [8614, 157, 3879, 9036, 6506, 8965, 7574, 6981, 6897, 5920], [8986, 4877, 4391, 4358, 8241, 5318, 5734, 4080, 5747, 6521], [8965, 4934, 2813, 7717, 5630, 4877, 3371, 8137, 3732, 4903], [5719, 6876, 3859, 6521, 4166, 2679, 7143, 8607, 620, 7717], [8607, 5719, 8605, 4697, 7035, 8026, 6521, 6260, 8313, 4773], [8322, 8382, 2973, 8389, 5952, 7803, 8385, 8996, 5969, 4697], [5485, 6078, 7829, 857, 4934, 7558, 858, 5802, 6204, 7966], [7766, 7903, 6506, 8329, 6450, 4282, 7795, 3518, 3732, 3042], [6609, 5563, 8140, 8087, 9015, 2184, 704, 9024, 3307, 7485], [5124, 7927, 4634, 932, 3926, 3859, 8985, 8769, 1366, 2473], [3836, 2925, 1400, 3486, 3944, 6506, 8137, 5124, 5810, 8293], [7076, 3502, 7115, 5719, 6663, 7128, 2716, 525, 8313, 8137], [3458, 7493, 6165, 5571, 4537, 3450, 2465, 4605, 3832, 4276], [8164, 6521, 1977, 9027, 4166, 7574, 4697, 5952, 6821, 8996], [7491, 8240, 9022, 3263, 8995, 631, 8967, 5862, 1112, 8986], [7076, 7605, 8996, 7035, 4166, 8030, 9027, 4773, 6521, 6260], [9051, 6659, 4178, 4166, 8026, 4388, 5920, 2031, 9027, 8364], [7558, 1979, 4697, 3786, 7551, 1390, 5687, 2228, 857, 4882], [8995, 5719, 7019, 4934, 9000, 9034, 3486, 9028, 4697, 8607], [4304, 5962, 3165, 3219, 4592, 2797, 1186, 1757, 6262, 6245], [4697, 4673, 2539, 2925, 1246, 3859, 6808, 2517, 6232, 6510], [7586, 8054, 8030, 7545, 5318, 4358, 4773, 7035, 4166, 6521], [1264, 4347, 8026, 8313, 7815, 4162, 6036, 3046, 3052, 6179], [6580, 8137, 6624, 1086, 2414, 5747, 7160, 4217, 8908, 3737], [7840, 2559, 7866, 7719, 8364, 5862, 5237, 3311, 8734, 5920], [4719, 8091, 6236, 8991, 3219, 1223, 3165, 8208, 8936, 6262], [9004, 9027, 7363, 9037, 8996, 4697, 8026, 7574, 4166, 6521], [5118, 2414, 631, 3142, 3518, 8603, 4194, 8129, 6818, 3042], [8996, 5834, 7035, 7611, 2679, 4166, 7574, 7586, 5719, 6521], [4898, 3734, 7574, 5969, 3778, 6204, 8102, 4166, 8091, 8996], [631, 4351, 4528, 5929, 1112, 1273, 8986, 1977, 8963, 9004], [8980, 8364, 2878, 7549, 1246, 9000, 7574, 9028, 8996, 4697], [2423, 593, 6688, 4008, 7557, 6011, 820, 4632, 3787, 3147], [8984, 5663, 704, 5862, 7717, 7247, 6881, 631, 6920, 9022], [5047, 4697, 8026, 3917, 3167, 3046, 7574, 8411, 993, 8607], [5018, 4771, 7363, 5802, 2273, 4166, 9037, 7438, 6998, 9025], [7346, 280, 4547, 3144, 3457, 3840, 8319, 9000, 2674, 5237], [8347, 3681, 5719, 8607, 4166, 4697, 5706, 8605, 2679, 6521], [6757, 1349, 8603, 4697, 7558, 4231, 6260, 858, 8605, 1891], [7034, 8385, 7574, 5719, 4396, 5952, 8556, 5548, 8411, 6521], [8991, 6260, 6227, 6951, 3095, 7717, 8996, 8137, 3219, 4697], [3263, 7426, 7790, 8212, 8311, 8855, 2989, 8137, 1298, 4038], [5384, 8995, 4180, 7491, 8240, 4773, 4396, 7456, 6260, 7076], [5584, 6521, 2355, 3518, 5457, 1408, 8240, 7454, 7840, 8026], [4631, 2346, 3165, 2679, 2473, 968, 8205, 6534, 6521, 2031], [1099, 2475, 6160, 6199, 5867, 1845, 5706, 3645, 4697, 9025], [2679, 8607, 8347, 1988, 7611, 6521, 7574, 5724, 5719, 3811], [7929, 7687, 7940, 6983, 5905, 9037, 8140, 704, 4180, 4441], [6649, 8137, 6521, 5719, 4903, 4934, 7717, 8607, 8347, 4697], [7362, 7432, 8026, 5969, 4687, 9028, 6521, 5802, 6828, 7456], [4282, 8136, 5120, 3042, 2346, 8556, 2464, 5548, 5964, 5559], [7992, 7586, 6821, 2719, 7456, 8556, 5338, 6828, 8087, 5460], [2388, 6843, 5876, 9027, 6221, 3095, 9023, 7033, 8016, 3083], [4777, 1891, 6221, 1757, 9036, 8965, 5237, 4009, 7723, 5920], [7574, 760, 4166, 8607, 620, 6534, 7169, 7247, 8364, 5920], [4726, 4231, 2163, 5018, 6872, 6758, 2031, 4771, 8026, 6052], [5834, 6260, 8030, 8965, 4903, 3147, 8986, 4773, 6521, 5747], [3888, 3917, 8347, 5724, 8102, 8137, 7611, 7574, 5719, 6506], [2229, 8376, 6221, 5932, 9027, 3450, 4276, 3126, 3458, 1701], [8208, 5920, 1011, 3516, 8813, 5828, 7145, 7558, 8364, 1965], [7285, 8057, 5120, 7491, 698, 5257, 8556, 4537, 7766, 3486], [3046, 2973, 4548, 7828, 4038, 8996, 5719, 5969, 8389, 4697], [704, 2441, 6951, 6431, 4537, 2878, 8313, 5460, 6227, 4697], [1809, 4697, 5571, 6590, 9046, 8607, 5888, 1497, 4087, 7086], [6506, 8026, 4407, 4934, 5969, 858, 8540, 4178, 3042, 8607], [9036, 4166, 3732, 4934, 9022, 8347, 6506, 4697, 8965, 6521], [8520, 4777, 6679, 7935, 4036, 4326, 3877, 7247, 3165, 8137], [7456, 2184, 6828, 5802, 5460, 7497, 704, 6521, 8087, 8140], [1218, 9022, 3732, 7717, 7940, 8986, 8984, 6506, 9037, 8965], [7229, 7586, 6818, 4729, 8026, 7456, 6828, 5747, 7722, 820], [4620, 3837, 2442, 6204, 2518, 4910, 8415, 1607, 4708, 8550], [3836, 4298, 7499, 4539, 7835, 5571, 5548, 4729, 5952, 9008], [7092, 5802, 9022, 6204, 9025, 4697, 8963, 7485, 8996, 8967], [3165, 6262, 8936, 2315, 4155, 2273, 8137, 5724, 5719, 4934], [7106, 4748, 8364, 3024, 8996, 8538, 8102, 7574, 6204, 8091], [5798, 5876, 2878, 4276, 2465, 4704, 3486, 8556, 4537, 8026], [8963, 3014, 5176, 6163, 4835, 8415, 7558, 7717, 8996, 6204], [4358, 7574, 7611, 6818, 7561, 6521, 6027, 3042, 7575, 6506], [3935, 1853, 3734, 7549, 3311, 5920, 6785, 2232, 6182, 6906], [7937, 8632, 6884, 8284, 5637, 3721, 7038, 7934, 5504, 6128], [8137, 5338, 4777, 8996, 7574, 4697, 6649, 8212, 4038, 617], [8506, 7245, 5565, 3712, 8319, 8965, 8550, 9028, 7285, 3486], [3126, 5539, 7611, 7102, 8855, 6491, 7389, 7574, 8550, 7115], [5931, 5802, 1202, 4867, 773, 1019, 7828, 8026, 5969, 5876], [7833, 6509, 6778, 7717, 620, 8284, 5760, 8607, 7861, 4547], [4123, 1366, 5558, 4672, 4605, 8037, 4166, 9015, 4536, 3832], [7969, 5053, 1349, 3778, 6699, 8411, 1691, 8137, 2716, 7115], [3433, 7456, 8665, 1332, 1905, 6624, 8480, 8813, 1023, 7324], [1976, 5952, 6014, 7812, 4729, 7574, 8240, 6818, 6191, 8026], [5314, 6276, 4396, 4697, 7438, 4354, 8313, 6521, 8347, 5706], [9000, 4697, 8734, 8607, 6621, 8980, 8026, 9028, 7815, 8287], [858, 6016, 4099, 4231, 5719, 7339, 8180, 7815, 8015, 7128], [5548, 7438, 5387, 7360, 857, 5462, 7456, 252, 5802, 7405], [8986, 8974, 4697, 8996, 9037, 8965, 8963, 7717, 9022, 631], [3787, 4726, 7160, 1503, 4008, 5920, 6211, 5225, 9028, 3542], [7491, 4773, 8313, 4697, 7574, 7035, 8026, 7076, 5719, 6521], [5976, 6506, 3809, 5950, 7593, 3042, 7499, 4354, 5548, 4396], [3624, 7106, 8060, 7517, 4149, 8550, 7575, 6513, 3052, 4048], [3216, 4048, 7057, 7173, 8164, 5707, 2674, 7245, 7976, 5237], [5322, 6506, 7495, 5209, 9004, 4964, 8965, 6017, 5666, 7687], [157, 6506, 6897, 6541, 9022, 4528, 4166, 3486, 4773, 6521], [7086, 3836, 4968, 8205, 7934, 7570, 3859, 6260, 8015, 5571], [5023, 7086, 5500, 8382, 8383, 9046, 8322, 8411, 5571, 5124], [1298, 7034, 3458, 6201, 4629, 4008, 8635, 8137, 3732, 3486], [6821, 6521, 7035, 8607, 3043, 3486, 7229, 7076, 7160, 6828], [7545, 3732, 5318, 6282, 8030, 4358, 9027, 7035, 4166, 6521], [7115, 3486, 3732, 8569, 8102, 4867, 8453, 8604, 8137, 8026], [4358, 617, 8164, 4217, 5952, 3245, 5548, 6821, 3705, 8550], [6207, 6236, 5291, 3486, 3458, 6260, 5337, 8635, 4629, 7115], [1751, 5571, 6447, 8205, 3663, 3021, 4773, 8240, 8030, 6506], [7115, 3167, 9027, 7574, 7128, 2679, 6872, 8026, 8607, 5920], [9028, 8980, 7441, 9027, 7432, 3083, 5802, 5905, 7396, 7454], [617, 4749, 4217, 4771, 7722, 8387, 7586, 7229, 6821, 7574]]\n",
            "671\n",
            "[858, 9030, 4934, 8965, 4903, 6027, 4048, 3165, 6506, 5747]\n",
            "10\n"
          ]
        }
      ],
      "source": [
        "print(type(top_movies))\n",
        "print(top_movies)\n",
        "print(len(top_movies))\n",
        "print(top_movies[1])\n",
        "print(len(top_movies[1]))"
      ]
    },
    {
      "cell_type": "code",
      "execution_count": null,
      "metadata": {
        "id": "mufRQgKVmG-R"
      },
      "outputs": [],
      "source": [
        "# TASK 1.2\n",
        "# THIS CELL WORKS! -> this cell is getting the embeddings for each movie index !!\n",
        "# access the embeddings from the model\n",
        "movie_embeddings_weight = model.movie_embedding.weight.data         # this grabs the tensor instead of the whole embedding layer\n",
        "#len tensor = 9066\n",
        "# len tensor[i] = 16\n",
        "# tensor.shape = ([9066,16])\n",
        "\n",
        "user_embeddings = []      # hold all the embeddings | this holds a list within lists where the outer list is the users and the inner list is the top ten for each user\n",
        "\n",
        "for i in range(len(top_movies)):\n",
        "    user_embedding = []  # hold the movie embeddings for each user\n",
        "    for v_index in top_movies[i]:\n",
        "        movie_embedding = movie_embeddings_weight[v_index].tolist()  # get embeddings for each user and convert tensor to list\n",
        "        user_embedding.append(movie_embedding)  # add to list for each user\n",
        "    user_embeddings.append(user_embedding)  # add embeddings for each top 10 to the whole list"
      ]
    },
    {
      "cell_type": "code",
      "execution_count": null,
      "metadata": {
        "colab": {
          "base_uri": "https://localhost:8080/"
        },
        "id": "dWtGAnAwmG-R",
        "outputId": "f7626795-4548-40f1-d3fa-10446115f165"
      },
      "outputs": [
        {
          "output_type": "stream",
          "name": "stdout",
          "text": [
            "671\n",
            "<class 'list'>\n",
            "<class 'list'>\n"
          ]
        }
      ],
      "source": [
        "print(len(user_embeddings))\n",
        "print(type(user_embeddings))\n",
        "print(type(user_embeddings[3][9]))     # this is the 10nth element of the fourth inner list"
      ]
    },
    {
      "cell_type": "code",
      "execution_count": null,
      "metadata": {
        "id": "ET_BrMQtmG-S"
      },
      "outputs": [],
      "source": [
        "import numpy as np"
      ]
    },
    {
      "cell_type": "code",
      "execution_count": null,
      "metadata": {
        "colab": {
          "base_uri": "https://localhost:8080/"
        },
        "id": "qGvn2AaymG-S",
        "outputId": "bb216ed9-721f-44c1-e19b-25df54ee88a8"
      },
      "outputs": [
        {
          "output_type": "stream",
          "name": "stdout",
          "text": [
            "[[ 1.         -0.01102781  0.07458699 ...  0.04197481 -0.28554723\n",
            "  -0.15414339]\n",
            " [-0.01102781  1.          0.10978693 ... -0.15626647 -0.05013399\n",
            "   0.0847293 ]\n",
            " [ 0.07458699  0.10978693  1.         ...  0.06340082  0.0248245\n",
            "   0.1311911 ]\n",
            " ...\n",
            " [ 0.04197481 -0.15626647  0.06340082 ...  1.          0.0212425\n",
            "  -0.02069195]\n",
            " [-0.28554723 -0.05013399  0.0248245  ...  0.0212425   1.\n",
            "   0.15129661]\n",
            " [-0.15414339  0.0847293   0.1311911  ... -0.02069195  0.15129661\n",
            "   1.        ]]\n",
            "671\n",
            "(671, 671)\n"
          ]
        }
      ],
      "source": [
        "# convert list to numpy array\n",
        "user_embeddings = np.asarray(user_embeddings)\n",
        "\n",
        "#Standardise\n",
        "#user_embeddings = StandardScaler().fit_transform(user_embeddings)\n",
        "\n",
        "# reshape embeddings\n",
        "user_embeddings = user_embeddings.reshape(user_embeddings.shape[0],-1)\n",
        "\n",
        "# values should be ranging from -1 to 1 | -1 indicates complete dissimiliarty and 1 complete similiarity\n",
        "similarity_matrix = cosine(user_embeddings)\n",
        "print(similarity_matrix)\n",
        "print(len(similarity_matrix))\n",
        "print(similarity_matrix.shape)"
      ]
    },
    {
      "cell_type": "code",
      "execution_count": null,
      "metadata": {
        "colab": {
          "base_uri": "https://localhost:8080/"
        },
        "id": "S7u7nRiqmG-T",
        "outputId": "614abd55-ab85-4253-a06e-2bde5632ad15"
      },
      "outputs": [
        {
          "output_type": "stream",
          "name": "stdout",
          "text": [
            "[[ 0.          1.01102781  0.92541301 ...  0.95802519  1.28554723\n",
            "   1.15414339]\n",
            " [ 1.01102781 -0.          0.89021307 ...  1.15626647  1.05013399\n",
            "   0.9152707 ]\n",
            " [ 0.92541301  0.89021307  0.         ...  0.93659918  0.9751755\n",
            "   0.8688089 ]\n",
            " ...\n",
            " [ 0.95802519  1.15626647  0.93659918 ...  0.          0.9787575\n",
            "   1.02069195]\n",
            " [ 1.28554723  1.05013399  0.9751755  ...  0.9787575  -0.\n",
            "   0.84870339]\n",
            " [ 1.15414339  0.9152707   0.8688089  ...  1.02069195  0.84870339\n",
            "  -0.        ]]\n",
            "(671, 671)\n"
          ]
        }
      ],
      "source": [
        "# TASK 1.3\n",
        "# THIS CELL WORKS!!\n",
        "# mapping inverted values in range [0,2] -> bigger range gives better details\n",
        "invert = (1 - similarity_matrix)\n",
        "\n",
        "# don't show scientific notation\n",
        "np.set_printoptions(suppress=True)\n",
        "\n",
        "print(invert)\n",
        "print(invert.shape)\n",
        "\n",
        "# distances now contains the mapped distance values in the range [0, 2]\n",
        "# the closer to 2 the more dissimilar are the values  -> bigger distance"
      ]
    },
    {
      "cell_type": "code",
      "execution_count": null,
      "metadata": {
        "colab": {
          "base_uri": "https://localhost:8080/"
        },
        "id": "QkZEGRuTmG-T",
        "outputId": "879bac60-e5dc-4205-d193-b0a2d7ad0153"
      },
      "outputs": [
        {
          "output_type": "execute_result",
          "data": {
            "text/plain": [
              "671"
            ]
          },
          "metadata": {},
          "execution_count": 47
        }
      ],
      "source": [
        "# TASK 1.4\n",
        "# calculate mean of difference based on inverted similarity matrix and user_embeddings\n",
        "inverted_means = []        # hold all the means for each top ten\n",
        "\n",
        "for top_ten in user_embeddings:       # iterate over embeddings for each top ten movies for each user in user_embeddings\n",
        "    inverted_mean = invert.mean()     # get mean of the invert matrix\n",
        "    inverted_means.append(inverted_mean)     # append to list\n",
        "\n",
        "len(inverted_means)"
      ]
    },
    {
      "cell_type": "code",
      "execution_count": null,
      "metadata": {
        "colab": {
          "base_uri": "https://localhost:8080/"
        },
        "id": "EDNz6Zq8mG-T",
        "outputId": "dab543ff-746a-4385-f945-687873af0570"
      },
      "outputs": [
        {
          "output_type": "execute_result",
          "data": {
            "text/plain": [
              "0.9930701068124655"
            ]
          },
          "metadata": {},
          "execution_count": 48
        }
      ],
      "source": [
        "# TASK 1.5\n",
        "import statistics as st\n",
        "\n",
        "mean_total_invert = st.fmean(inverted_means)\n",
        "mean_total_invert"
      ]
    },
    {
      "cell_type": "markdown",
      "metadata": {
        "id": "nvvCetZAmG-U"
      },
      "source": [
        "The mean for the whole dataset - every top 10 - is 0.99. <br>\n",
        "This indicates a low dissimilarity between each user's top ten movie, meaning that the training could probably have been done with more epochs or different parameters improving the outcome of the model.\n"
      ]
    },
    {
      "cell_type": "markdown",
      "metadata": {
        "id": "tP6SjNkYmG-U"
      },
      "source": [
        "# TASK 1 NOVELTY\n",
        "This tells us what the mean popularity (e.g. mean rating) of the films in every users Top 10 films is\n",
        "\n",
        "1. Calculate every user's top 10\n",
        "\n",
        "\n",
        "2. For each top 10, get the mean rating for each film (based on the original **MovieLens Small** dataset (``df = pd.read_csv(\"ml-latest-small/ratings.csv\")``).\n",
        "\n",
        "\n",
        "3. Get the mean rating for each top 10.\n",
        "\n",
        "\n",
        "4. Report the mean for the whole dataset (every top 10)."
      ]
    },
    {
      "cell_type": "code",
      "execution_count": null,
      "metadata": {
        "colab": {
          "base_uri": "https://localhost:8080/"
        },
        "id": "dCtFih2smG-U",
        "outputId": "c195d92b-f63f-41c5-9a01-db0d78de71c8"
      },
      "outputs": [
        {
          "output_type": "stream",
          "name": "stdout",
          "text": [
            "671\n",
            "['Sansho the Bailiff (Sanshô dayû) (1954)', \"Razor's Edge, The (1946)\", 'Wolf Children (Okami kodomo no ame to yuki) (2012)', 'Women, The (2008)', 'Boy A (2007)', 'Disappearance of Haruhi Suzumiya, The (Suzumiya Haruhi no shôshitsu) (2010)', 'Z Channel: A Magnificent Obsession (2004)', 'Farewell My Concubine (Ba wang bie ji) (1993)', 'Character (Karakter) (1997)', 'Two Deaths (1995)']\n",
            "671\n",
            "[5604, 7755, 5724, 7788, 3917, 8313, 6260, 4231, 858, 7128]\n",
            "671\n",
            "[-0.73716521  0.86051273  1.84348822 -0.99453437 -0.38367799  0.96137005\n",
            " -1.85492551  0.35794923  0.46019784 -1.6247437   1.03578067  0.05975077\n",
            "  1.76935697 -0.34947526 -0.96648872  1.60754263  2.88137245 -0.09380767\n",
            "  1.43221331 -1.58485293  0.56232834  0.67874068 -0.82530296  1.38777876\n",
            " -0.52639627  0.06301299 -0.07755148  1.32647192 -0.82260692  2.27716851\n",
            " -1.46284878 -0.7869972   2.33119249  0.24473251 -0.07824565 -0.64983046\n",
            "  0.08360413  2.29876184 -0.59805548  0.23819764  2.07254839 -0.5364247\n",
            "  0.63137174  2.36679864 -0.0950703  -0.08195653 -1.52584147  0.08131515\n",
            " -0.18664479 -1.10012889  2.58841538 -0.09398098 -0.76630127  1.31616902\n",
            "  0.21322307  0.22946185  0.57718062  0.58251178  0.51774114  1.91837907\n",
            "  0.77910644 -0.45011997 -1.64331234 -0.04781261 -0.59916562  0.82111883\n",
            " -0.72577852 -2.22322822 -0.18128093 -0.24443065 -1.77268612 -0.81639695\n",
            "  1.96352422 -0.3332876  -1.23945498  1.0727787  -0.74113303  1.82998979\n",
            " -1.78203619  0.00464833 -2.04990721  1.29708493  0.026502    1.57045984\n",
            " -0.59262443 -0.47144473 -2.14351988 -1.91765547  0.55590159 -0.28421178\n",
            " -0.09827161  2.38990974  2.84177041  0.12265959 -1.01442182  3.19540739\n",
            " -0.70546603  2.4321115   0.91385955  0.84483612 -3.36292243  0.69803768\n",
            " -1.32763064 -1.37501347 -1.09484398  0.76239723  0.52332693  1.31776798\n",
            "  1.34197605  1.15074527 -0.12285472 -1.58457398  0.76190132  0.56636661\n",
            "  1.66832757 -1.69635892  1.49069726  2.29538727 -2.08812451 -0.37088484\n",
            "  0.61341107  1.58680296 -1.10175383  0.70159888 -0.17558649  0.38955307\n",
            " -3.06468296 -0.94885164 -0.61573195  0.12498008  1.40436482 -0.93319476\n",
            "  0.19303906  3.0196166  -1.65607953 -1.421363    0.71305281  3.2304759\n",
            "  1.11969519 -0.49655828  0.1368936   3.03183746 -1.0682919   1.00713086\n",
            "  0.55779737  1.81644988 -1.27532339 -2.34812593 -1.24987364  0.01321207\n",
            " -3.31974077 -2.32090855  1.49853873  1.27777374  0.14678082  1.45598221\n",
            "  0.75820017  0.70537037 -1.85183609  0.15658532]\n"
          ]
        }
      ],
      "source": [
        "# TASK 1.1\n",
        "# #each user's top 10 with names is saved in the list, 'top_movies_names' from task 1 diversity\n",
        "print(len(top_movies_names))\n",
        "print(top_movies_names[3])    # the fourth users top ten movies\n",
        "\n",
        "# each user's top 10 with indexes is saved in the list, 'top_movies' from task 1 diversity\n",
        "print(len(top_movies))\n",
        "print(top_movies[3])\n",
        "\n",
        "# each user's top 10 with embeddings is saved in the array, 'user_embeddings' from task 1 diversity\n",
        "print(len(user_embeddings))\n",
        "print(user_embeddings[3])"
      ]
    },
    {
      "cell_type": "code",
      "execution_count": null,
      "metadata": {
        "id": "Jm7Dly1VmG-V"
      },
      "outputs": [],
      "source": [
        "# read in new .csv file containing movie ratings\n",
        "#df = pd.read_csv('ml-latest-small/ratings.csv')\n",
        "df = pd.read_csv('ratings.csv')"
      ]
    },
    {
      "cell_type": "code",
      "execution_count": null,
      "metadata": {
        "colab": {
          "base_uri": "https://localhost:8080/",
          "height": 424
        },
        "id": "xhWgw8wxmG-V",
        "outputId": "c78839cb-2b86-447f-99c9-5d424478abf6"
      },
      "outputs": [
        {
          "output_type": "execute_result",
          "data": {
            "text/plain": [
              "        userId  movieId  rating   timestamp  \\\n",
              "0            1       31     2.5  1260759144   \n",
              "1            7       31     3.0   851868750   \n",
              "2           31       31     4.0  1273541953   \n",
              "3           32       31     4.0   834828440   \n",
              "4           36       31     3.0   847057202   \n",
              "...        ...      ...     ...         ...   \n",
              "99999      664    64997     2.5  1343761859   \n",
              "100000     664    72380     3.5  1344435977   \n",
              "100001     665      129     3.0   995232528   \n",
              "100002     665     4736     1.0  1010197684   \n",
              "100003     668     6425     1.0   993613478   \n",
              "\n",
              "                                       title  \\\n",
              "0                     Dangerous Minds (1995)   \n",
              "1                     Dangerous Minds (1995)   \n",
              "2                     Dangerous Minds (1995)   \n",
              "3                     Dangerous Minds (1995)   \n",
              "4                     Dangerous Minds (1995)   \n",
              "...                                      ...   \n",
              "99999               War of the Worlds (2005)   \n",
              "100000                       Box, The (2009)   \n",
              "100001                 Pie in the Sky (1996)   \n",
              "100002                   Summer Catch (2001)   \n",
              "100003  6th Man, The (Sixth Man, The) (1997)   \n",
              "\n",
              "                                      genres  \n",
              "0                                      Drama  \n",
              "1                                      Drama  \n",
              "2                                      Drama  \n",
              "3                                      Drama  \n",
              "4                                      Drama  \n",
              "...                                      ...  \n",
              "99999                          Action|Sci-Fi  \n",
              "100000  Drama|Horror|Mystery|Sci-Fi|Thriller  \n",
              "100001                        Comedy|Romance  \n",
              "100002                  Comedy|Drama|Romance  \n",
              "100003                                Comedy  \n",
              "\n",
              "[100004 rows x 6 columns]"
            ],
            "text/html": [
              "\n",
              "  <div id=\"df-616c9a82-e2ec-4b3e-84ed-421a7020a5a8\">\n",
              "    <div class=\"colab-df-container\">\n",
              "      <div>\n",
              "<style scoped>\n",
              "    .dataframe tbody tr th:only-of-type {\n",
              "        vertical-align: middle;\n",
              "    }\n",
              "\n",
              "    .dataframe tbody tr th {\n",
              "        vertical-align: top;\n",
              "    }\n",
              "\n",
              "    .dataframe thead th {\n",
              "        text-align: right;\n",
              "    }\n",
              "</style>\n",
              "<table border=\"1\" class=\"dataframe\">\n",
              "  <thead>\n",
              "    <tr style=\"text-align: right;\">\n",
              "      <th></th>\n",
              "      <th>userId</th>\n",
              "      <th>movieId</th>\n",
              "      <th>rating</th>\n",
              "      <th>timestamp</th>\n",
              "      <th>title</th>\n",
              "      <th>genres</th>\n",
              "    </tr>\n",
              "  </thead>\n",
              "  <tbody>\n",
              "    <tr>\n",
              "      <th>0</th>\n",
              "      <td>1</td>\n",
              "      <td>31</td>\n",
              "      <td>2.5</td>\n",
              "      <td>1260759144</td>\n",
              "      <td>Dangerous Minds (1995)</td>\n",
              "      <td>Drama</td>\n",
              "    </tr>\n",
              "    <tr>\n",
              "      <th>1</th>\n",
              "      <td>7</td>\n",
              "      <td>31</td>\n",
              "      <td>3.0</td>\n",
              "      <td>851868750</td>\n",
              "      <td>Dangerous Minds (1995)</td>\n",
              "      <td>Drama</td>\n",
              "    </tr>\n",
              "    <tr>\n",
              "      <th>2</th>\n",
              "      <td>31</td>\n",
              "      <td>31</td>\n",
              "      <td>4.0</td>\n",
              "      <td>1273541953</td>\n",
              "      <td>Dangerous Minds (1995)</td>\n",
              "      <td>Drama</td>\n",
              "    </tr>\n",
              "    <tr>\n",
              "      <th>3</th>\n",
              "      <td>32</td>\n",
              "      <td>31</td>\n",
              "      <td>4.0</td>\n",
              "      <td>834828440</td>\n",
              "      <td>Dangerous Minds (1995)</td>\n",
              "      <td>Drama</td>\n",
              "    </tr>\n",
              "    <tr>\n",
              "      <th>4</th>\n",
              "      <td>36</td>\n",
              "      <td>31</td>\n",
              "      <td>3.0</td>\n",
              "      <td>847057202</td>\n",
              "      <td>Dangerous Minds (1995)</td>\n",
              "      <td>Drama</td>\n",
              "    </tr>\n",
              "    <tr>\n",
              "      <th>...</th>\n",
              "      <td>...</td>\n",
              "      <td>...</td>\n",
              "      <td>...</td>\n",
              "      <td>...</td>\n",
              "      <td>...</td>\n",
              "      <td>...</td>\n",
              "    </tr>\n",
              "    <tr>\n",
              "      <th>99999</th>\n",
              "      <td>664</td>\n",
              "      <td>64997</td>\n",
              "      <td>2.5</td>\n",
              "      <td>1343761859</td>\n",
              "      <td>War of the Worlds (2005)</td>\n",
              "      <td>Action|Sci-Fi</td>\n",
              "    </tr>\n",
              "    <tr>\n",
              "      <th>100000</th>\n",
              "      <td>664</td>\n",
              "      <td>72380</td>\n",
              "      <td>3.5</td>\n",
              "      <td>1344435977</td>\n",
              "      <td>Box, The (2009)</td>\n",
              "      <td>Drama|Horror|Mystery|Sci-Fi|Thriller</td>\n",
              "    </tr>\n",
              "    <tr>\n",
              "      <th>100001</th>\n",
              "      <td>665</td>\n",
              "      <td>129</td>\n",
              "      <td>3.0</td>\n",
              "      <td>995232528</td>\n",
              "      <td>Pie in the Sky (1996)</td>\n",
              "      <td>Comedy|Romance</td>\n",
              "    </tr>\n",
              "    <tr>\n",
              "      <th>100002</th>\n",
              "      <td>665</td>\n",
              "      <td>4736</td>\n",
              "      <td>1.0</td>\n",
              "      <td>1010197684</td>\n",
              "      <td>Summer Catch (2001)</td>\n",
              "      <td>Comedy|Drama|Romance</td>\n",
              "    </tr>\n",
              "    <tr>\n",
              "      <th>100003</th>\n",
              "      <td>668</td>\n",
              "      <td>6425</td>\n",
              "      <td>1.0</td>\n",
              "      <td>993613478</td>\n",
              "      <td>6th Man, The (Sixth Man, The) (1997)</td>\n",
              "      <td>Comedy</td>\n",
              "    </tr>\n",
              "  </tbody>\n",
              "</table>\n",
              "<p>100004 rows × 6 columns</p>\n",
              "</div>\n",
              "      <button class=\"colab-df-convert\" onclick=\"convertToInteractive('df-616c9a82-e2ec-4b3e-84ed-421a7020a5a8')\"\n",
              "              title=\"Convert this dataframe to an interactive table.\"\n",
              "              style=\"display:none;\">\n",
              "        \n",
              "  <svg xmlns=\"http://www.w3.org/2000/svg\" height=\"24px\"viewBox=\"0 0 24 24\"\n",
              "       width=\"24px\">\n",
              "    <path d=\"M0 0h24v24H0V0z\" fill=\"none\"/>\n",
              "    <path d=\"M18.56 5.44l.94 2.06.94-2.06 2.06-.94-2.06-.94-.94-2.06-.94 2.06-2.06.94zm-11 1L8.5 8.5l.94-2.06 2.06-.94-2.06-.94L8.5 2.5l-.94 2.06-2.06.94zm10 10l.94 2.06.94-2.06 2.06-.94-2.06-.94-.94-2.06-.94 2.06-2.06.94z\"/><path d=\"M17.41 7.96l-1.37-1.37c-.4-.4-.92-.59-1.43-.59-.52 0-1.04.2-1.43.59L10.3 9.45l-7.72 7.72c-.78.78-.78 2.05 0 2.83L4 21.41c.39.39.9.59 1.41.59.51 0 1.02-.2 1.41-.59l7.78-7.78 2.81-2.81c.8-.78.8-2.07 0-2.86zM5.41 20L4 18.59l7.72-7.72 1.47 1.35L5.41 20z\"/>\n",
              "  </svg>\n",
              "      </button>\n",
              "      \n",
              "  <style>\n",
              "    .colab-df-container {\n",
              "      display:flex;\n",
              "      flex-wrap:wrap;\n",
              "      gap: 12px;\n",
              "    }\n",
              "\n",
              "    .colab-df-convert {\n",
              "      background-color: #E8F0FE;\n",
              "      border: none;\n",
              "      border-radius: 50%;\n",
              "      cursor: pointer;\n",
              "      display: none;\n",
              "      fill: #1967D2;\n",
              "      height: 32px;\n",
              "      padding: 0 0 0 0;\n",
              "      width: 32px;\n",
              "    }\n",
              "\n",
              "    .colab-df-convert:hover {\n",
              "      background-color: #E2EBFA;\n",
              "      box-shadow: 0px 1px 2px rgba(60, 64, 67, 0.3), 0px 1px 3px 1px rgba(60, 64, 67, 0.15);\n",
              "      fill: #174EA6;\n",
              "    }\n",
              "\n",
              "    [theme=dark] .colab-df-convert {\n",
              "      background-color: #3B4455;\n",
              "      fill: #D2E3FC;\n",
              "    }\n",
              "\n",
              "    [theme=dark] .colab-df-convert:hover {\n",
              "      background-color: #434B5C;\n",
              "      box-shadow: 0px 1px 3px 1px rgba(0, 0, 0, 0.15);\n",
              "      filter: drop-shadow(0px 1px 2px rgba(0, 0, 0, 0.3));\n",
              "      fill: #FFFFFF;\n",
              "    }\n",
              "  </style>\n",
              "\n",
              "      <script>\n",
              "        const buttonEl =\n",
              "          document.querySelector('#df-616c9a82-e2ec-4b3e-84ed-421a7020a5a8 button.colab-df-convert');\n",
              "        buttonEl.style.display =\n",
              "          google.colab.kernel.accessAllowed ? 'block' : 'none';\n",
              "\n",
              "        async function convertToInteractive(key) {\n",
              "          const element = document.querySelector('#df-616c9a82-e2ec-4b3e-84ed-421a7020a5a8');\n",
              "          const dataTable =\n",
              "            await google.colab.kernel.invokeFunction('convertToInteractive',\n",
              "                                                     [key], {});\n",
              "          if (!dataTable) return;\n",
              "\n",
              "          const docLinkHtml = 'Like what you see? Visit the ' +\n",
              "            '<a target=\"_blank\" href=https://colab.research.google.com/notebooks/data_table.ipynb>data table notebook</a>'\n",
              "            + ' to learn more about interactive tables.';\n",
              "          element.innerHTML = '';\n",
              "          dataTable['output_type'] = 'display_data';\n",
              "          await google.colab.output.renderOutput(dataTable, element);\n",
              "          const docLink = document.createElement('div');\n",
              "          docLink.innerHTML = docLinkHtml;\n",
              "          element.appendChild(docLink);\n",
              "        }\n",
              "      </script>\n",
              "    </div>\n",
              "  </div>\n",
              "  "
            ]
          },
          "metadata": {},
          "execution_count": 51
        }
      ],
      "source": [
        "# merge the two dataframes based on column, 'movieId'\n",
        "merged_df = pd.merge(df, movie_data, on='movieId')\n",
        "merged_df\n"
      ]
    },
    {
      "cell_type": "code",
      "execution_count": null,
      "metadata": {
        "colab": {
          "base_uri": "https://localhost:8080/"
        },
        "id": "h1lNGLLxmG-V",
        "outputId": "8259a17b-6079-4a29-e196-dce2cbec6048"
      },
      "outputs": [
        {
          "output_type": "execute_result",
          "data": {
            "text/plain": [
              "userId       False\n",
              "movieId      False\n",
              "rating       False\n",
              "timestamp    False\n",
              "dtype: bool"
            ]
          },
          "metadata": {},
          "execution_count": 52
        }
      ],
      "source": [
        "# check if there is missing data\n",
        "miss = df.isna().any()\n",
        "miss\n",
        "# no missing data"
      ]
    },
    {
      "cell_type": "code",
      "execution_count": null,
      "metadata": {
        "id": "LY4jX05ImG-W"
      },
      "outputs": [],
      "source": [
        "# TASK 1.2\n",
        "# i am copying the structure from getting the embeddings for each movie\n",
        "user_ratings = []       # hold all ratings\n",
        "\n",
        "for i in range(len(top_movies)):      # iterate over each movie\n",
        "    user_rating = []   # hold the movie ratings for one user\n",
        "    for index in top_movies[i]:\n",
        "        rating = merged_df['rating'][index]     # get corresponding rating from dataframe\n",
        "        user_rating.append(rating)       # add movie to each user\n",
        "    user_ratings.append(user_rating)     # add all the user's movies' ratings"
      ]
    },
    {
      "cell_type": "code",
      "execution_count": null,
      "metadata": {
        "colab": {
          "base_uri": "https://localhost:8080/"
        },
        "id": "v3Y2C-_CmG-X",
        "outputId": "07c6a753-6390-4a93-a701-f59b0d2a31fb"
      },
      "outputs": [
        {
          "output_type": "stream",
          "name": "stdout",
          "text": [
            "(671, 10)\n",
            "[4.0, 4.0, 3.0, 5.0, 5.0, 5.0, 5.0, 4.5, 4.5, 5.0]\n"
          ]
        }
      ],
      "source": [
        "# look at the data\n",
        "shape = (len(user_ratings),len(user_ratings[0]))\n",
        "print(shape)\n",
        "print(user_ratings[3])"
      ]
    },
    {
      "cell_type": "code",
      "execution_count": null,
      "metadata": {
        "id": "Q2K_EHBJmG-Y"
      },
      "outputs": [],
      "source": [
        "# TASK 1.3\n",
        "# iterate over each rating for each top ten user_ratings and get the mean each time\n",
        "mean_ratings_top_ten = [np.mean(top_ten) for top_ten in user_ratings]"
      ]
    },
    {
      "cell_type": "code",
      "execution_count": null,
      "metadata": {
        "colab": {
          "base_uri": "https://localhost:8080/"
        },
        "id": "HegeP4B0mG-Z",
        "outputId": "69c484b7-2766-475a-a12b-a5efc2ea9068"
      },
      "outputs": [
        {
          "output_type": "stream",
          "name": "stdout",
          "text": [
            "671\n",
            "[4.0, 3.45, 3.9, 4.5, 3.4]\n"
          ]
        }
      ],
      "source": [
        "# look at the data\n",
        "print(len(mean_ratings_top_ten))\n",
        "print(mean_ratings_top_ten[:5])"
      ]
    },
    {
      "cell_type": "code",
      "execution_count": null,
      "metadata": {
        "colab": {
          "base_uri": "https://localhost:8080/"
        },
        "id": "pv-8VNBQmG-Z",
        "outputId": "35f3126a-3575-43ea-99e3-4bb7438e3668"
      },
      "outputs": [
        {
          "output_type": "stream",
          "name": "stdout",
          "text": [
            "The mean rating for the whole dataset is:  3.775931445603577\n"
          ]
        }
      ],
      "source": [
        "# TASK 1.4\n",
        "# get mean for the whole list of mean ratings\n",
        "mean_total_ratings = st.fmean(mean_ratings_top_ten)\n",
        "print('The mean rating for the whole dataset is: ',mean_total_ratings)"
      ]
    },
    {
      "cell_type": "markdown",
      "metadata": {
        "id": "ADrJAKOYmG-a"
      },
      "source": [
        "## Task 2\n",
        "\n",
        "Using a dimensionality reduction approach (PCA? TSNE?), plot the top 30 best rated films on a 2-D graph based on their movie embeddings. Label each point with the title.\n",
        "\n",
        "There is infact ~400 films that have an average rating of 5 (because some films have only 1 rating). Can you adjust or filter for this?"
      ]
    },
    {
      "cell_type": "code",
      "source": [
        "# count how many times each movie has been rated\n",
        "#count = merged_df.groupby('movieId').value_counts().to_dict()\n",
        "#count = merged_df.groupby('movieId')['rating'].count()\n",
        "count = merged_df['movieId'].value_counts()\n",
        "count"
      ],
      "metadata": {
        "colab": {
          "base_uri": "https://localhost:8080/"
        },
        "id": "XrXWuDXEorpK",
        "outputId": "717d9405-428d-46c8-9b52-d9d55065ffe9"
      },
      "execution_count": null,
      "outputs": [
        {
          "output_type": "execute_result",
          "data": {
            "text/plain": [
              "356       341\n",
              "296       324\n",
              "318       311\n",
              "593       304\n",
              "260       291\n",
              "         ... \n",
              "98604       1\n",
              "103659      1\n",
              "104419      1\n",
              "115927      1\n",
              "6425        1\n",
              "Name: movieId, Length: 9066, dtype: int64"
            ]
          },
          "metadata": {},
          "execution_count": 100
        }
      ]
    },
    {
      "cell_type": "code",
      "source": [
        "# add the count back to the dataframe\n",
        "merged_df['count'] = merged_df['movieId'].map(count)"
      ],
      "metadata": {
        "id": "s_w-GMq6vKNI"
      },
      "execution_count": null,
      "outputs": []
    },
    {
      "cell_type": "code",
      "execution_count": null,
      "metadata": {
        "id": "ZiW-PatUmG-a"
      },
      "outputs": [],
      "source": [
        "# To get the 30 best rated movies I am going to recreate the list 'user_ratings' with both ratings and movie names and movieid and number of ratings\n",
        "# i am copying the structure from getting the embeddings for each movie\n",
        "user_ratings = []       # hold all\n",
        "\n",
        "for i in range(len(top_movies)):      # iterate over each movie\n",
        "    user_rating = []   # hold the movie ratings for one user\n",
        "    for index in top_movies[i]:\n",
        "        rating = merged_df['rating'][index]     # get corresponding rating from dataframe\n",
        "        title = merged_df['title'][index]       # get the corresponding title from dataframe\n",
        "        movieid = merged_df['movieId'][index]   # get the corresponding movieid from dataframe\n",
        "        count = merged_df['count'][index]            # add the count value based on the corresponding movieid\n",
        "        user_rating.append((rating,title,movieid,count))      # add each tuple of movie and rating to each user\n",
        "    user_ratings.append(user_rating)     # add all the user's movies' ratings"
      ]
    },
    {
      "cell_type": "code",
      "execution_count": null,
      "metadata": {
        "colab": {
          "base_uri": "https://localhost:8080/"
        },
        "id": "0zpZRikemG-b",
        "outputId": "f9f723fb-355c-4bda-efd1-b13257442668"
      },
      "outputs": [
        {
          "output_type": "stream",
          "name": "stdout",
          "text": [
            "[(4.0, 'Wolf (1994)', 382, 19), (4.0, 'Aladdin (1992)', 588, 215), (3.0, 'Firm, The (1993)', 454, 110), (5.0, 'Aladdin (1992)', 588, 215), (5.0, 'Pulp Fiction (1994)', 296, 324), (5.0, 'Dances with Wolves (1990)', 590, 202), (5.0, 'Jurassic Park (1993)', 480, 274), (4.5, 'While You Were Sleeping (1995)', 339, 101), (4.5, 'Blazing Saddles (1974)', 3671, 62), (5.0, \"Schindler's List (1993)\", 527, 244)]\n",
            "(671, 10, 10)\n",
            "<class 'list'>\n"
          ]
        }
      ],
      "source": [
        "# structure is: rating, title, movieid, number of ratings\n",
        "user_ratings_shape = (len(user_ratings),len(user_ratings[0]),len(user_ratings[1]))\n",
        "print(user_ratings[3])\n",
        "print(user_ratings_shape)\n",
        "print(type(user_ratings))"
      ]
    },
    {
      "cell_type": "code",
      "execution_count": null,
      "metadata": {
        "id": "mjWF71B5mG-b"
      },
      "outputs": [],
      "source": [
        "# make the nested list into a single list\n",
        "user_ratings = [element for nest_list in user_ratings for element in nest_list]"
      ]
    },
    {
      "cell_type": "code",
      "execution_count": null,
      "metadata": {
        "colab": {
          "base_uri": "https://localhost:8080/"
        },
        "id": "MR1W5PqamG-b",
        "outputId": "e09d5ebb-d7be-43f7-978a-7a8e371bb037"
      },
      "outputs": [
        {
          "output_type": "stream",
          "name": "stdout",
          "text": [
            "(5.0, 'Aladdin (1992)', 588, 215)\n",
            "(6710, 4)\n",
            "<class 'list'>\n"
          ]
        }
      ],
      "source": [
        "# check the succes\n",
        "user_ratings_shape = (len(user_ratings),len(user_ratings[0]))\n",
        "print(user_ratings[3])\n",
        "print(user_ratings_shape)\n",
        "print(type(user_ratings))"
      ]
    },
    {
      "cell_type": "code",
      "execution_count": null,
      "metadata": {
        "id": "OZcBAqdcmG-c"
      },
      "outputs": [],
      "source": [
        "from operator import itemgetter\n",
        "# reorder based on the biggest number in index 1 in the nested list    |    from here: https://docs.python.org/2/library/operator.html#operator.itemgetter\n",
        "user_ratings_sorted = [sorted(user_ratings,key=itemgetter(0),reverse=True) for rating in user_ratings]"
      ]
    },
    {
      "cell_type": "code",
      "execution_count": null,
      "metadata": {
        "id": "eprhKtS7mG-g",
        "outputId": "81f4724d-e29c-4214-b4a2-294b56fb47d4"
      },
      "outputs": [
        {
          "name": "stdout",
          "output_type": "stream",
          "text": [
            "3.0\n",
            "11.030664019413193\n",
            "0    1\n",
            "Name: rating, dtype: int64\n"
          ]
        }
      ],
      "source": [
        "# find top 30 rated movies IF they have above the median of ratings counts\n",
        "print(count.median())\n",
        "print(count.mean())\n",
        "print(count.mode())\n"
      ]
    },
    {
      "cell_type": "markdown",
      "metadata": {
        "id": "sY-fgA8LmG-g"
      },
      "source": [
        "The median value of 3 indicates that there is a lotttt of ratings of 1, which .mode() confirms, even though the highest rating is 247. <br> The mean number is 11 which could be a good value to choose instead."
      ]
    },
    {
      "cell_type": "code",
      "execution_count": null,
      "metadata": {
        "id": "zx_5jqawmG-h"
      },
      "outputs": [],
      "source": [
        "threshold = 11\n",
        "\n",
        "top_30 = []    # hold the best rated movies\n",
        "\n",
        "for user_rating in user_ratings_sorted:\n",
        "    for movie in user_rating:\n",
        "        rating, title, movieid, count = movie\n",
        "        if count > threshold:\n",
        "          if movie not in top_30:    # check if the movie is already added\n",
        "              top_30.append(movie)\n",
        "              break  # Exit the inner loop once a movie with count > threshold is found\n",
        "          if len(top_30) >= 30:\n",
        "              break  # Exit the outer loop once 30 movies are added to top_30\n",
        "    if len(top_30) >= 30:\n",
        "      break"
      ]
    },
    {
      "cell_type": "code",
      "source": [
        "print(top_30)"
      ],
      "metadata": {
        "colab": {
          "base_uri": "https://localhost:8080/"
        },
        "id": "rIn_DEnpyw8A",
        "outputId": "01525465-f452-4a04-b348-79f3fc25d9ea"
      },
      "execution_count": null,
      "outputs": [
        {
          "output_type": "stream",
          "name": "stdout",
          "text": [
            "[(5.0, 'Forrest Gump (1994)', 356, 341), (5.0, 'Aladdin (1992)', 588, 215), (5.0, \"Mr. Holland's Opus (1995)\", 62, 87), (5.0, 'Piano, The (1993)', 509, 78), (5.0, 'Silence of the Lambs, The (1991)', 593, 304), (5.0, \"Schindler's List (1993)\", 527, 244), (5.0, 'Pulp Fiction (1994)', 296, 324), (5.0, 'Dances with Wolves (1990)', 590, 202), (5.0, 'Jurassic Park (1993)', 480, 274), (5.0, 'Terminator 2: Judgment Day (1991)', 589, 237), (5.0, 'Quiz Show (1994)', 300, 90), (5.0, 'Shallow Grave (1994)', 319, 38), (5.0, 'Fugitive, The (1993)', 457, 213), (5.0, 'Seven (a.k.a. Se7en) (1995)', 47, 201), (5.0, 'Batman Forever (1995)', 153, 129), (5.0, 'Wallace & Gromit: The Best of Aardman Animation (1996)', 720, 45), (5.0, 'Usual Suspects, The (1995)', 50, 201), (5.0, 'Much Ado About Nothing (1993)', 497, 60), (5.0, 'Braveheart (1995)', 110, 228), (5.0, 'Circle of Friends (1995)', 222, 22), (5.0, 'Four Weddings and a Funeral (1994)', 357, 122), (5.0, 'Clerks (1994)', 223, 109), (5.0, 'Home Alone (1990)', 586, 129), (5.0, 'Apollo 13 (1995)', 150, 200), (5.0, 'Philadelphia (1993)', 508, 86), (5.0, 'Cinema Paradiso (Nuovo cinema Paradiso) (1989)', 1172, 46), (5.0, 'Lion King, The (1994)', 364, 200), (5.0, 'Ed Wood (1994)', 235, 78), (5.0, 'Speed (1994)', 377, 180), (5.0, 'Naked Gun 33 1/3: The Final Insult (1994)', 370, 67)]\n"
          ]
        }
      ]
    },
    {
      "cell_type": "code",
      "execution_count": null,
      "metadata": {
        "id": "DpuRpfdomG-i"
      },
      "outputs": [],
      "source": [
        "from sklearn.decomposition import PCA\n",
        "import seaborn as sns"
      ]
    },
    {
      "cell_type": "code",
      "source": [
        "# in order to use the PCA to visualise dimensionality reduction I need to get rid of the movie_name\n",
        "# convert list into dataframe\n",
        "top_30_df = pd.DataFrame(top_30)\n",
        "\n",
        "# delete column in first index\n",
        "del top_30_df[1]"
      ],
      "metadata": {
        "id": "2pJCVEwB1BNg"
      },
      "execution_count": null,
      "outputs": []
    },
    {
      "cell_type": "code",
      "source": [
        "# guide to PCA visualisation from here: https://www.geeksforgeeks.org/reduce-data-dimentionality-using-pca-python/  & Week 3.1 Spotify Playlists\n",
        "#Standardise\n",
        "scaled_data = StandardScaler().fit_transform(top_30_df)\n",
        "\n",
        "pca = PCA(n_components = 2)\n",
        "pca.fit(scaled_data)\n",
        "data_pca = pca.transform(scaled_data)"
      ],
      "metadata": {
        "id": "FcSkDRjA0zpg"
      },
      "execution_count": null,
      "outputs": []
    },
    {
      "cell_type": "code",
      "execution_count": null,
      "metadata": {
        "colab": {
          "base_uri": "https://localhost:8080/",
          "height": 870
        },
        "id": "1vQM4rLymG-j",
        "outputId": "d998073d-5921-49bd-9302-393a1f5bb6c4"
      },
      "outputs": [
        {
          "output_type": "execute_result",
          "data": {
            "text/plain": [
              "Text(0.5, 1.0, 'Top 30 Best Rated Movies')"
            ]
          },
          "metadata": {},
          "execution_count": 179
        },
        {
          "output_type": "display_data",
          "data": {
            "text/plain": [
              "<Figure size 1000x1000 with 1 Axes>"
            ],
            "image/png": "[encoded data removed]"
          },
          "metadata": {}
        }
      ],
      "source": [
        "plt.figure(figsize=(10,10))   # create the figure\n",
        "plt.scatter(data_pca[:, 0], data_pca[:, 1])\n",
        "\n",
        "# give it names\n",
        "annotations = [movie[1] for movie in top_30]     # this line of code is generated with chatgpt to fix error\n",
        "for i, label in enumerate(annotations):\n",
        "    plt.annotate(label, (data_pca[i, 0], data_pca[i, 1]), alpha=0.7)\n",
        "\n",
        "plt.title('Top 30 Best Rated Movies')"
      ]
    },
    {
      "cell_type": "code",
      "execution_count": null,
      "metadata": {
        "id": "7ktoH9icmG-j"
      },
      "outputs": [],
      "source": [
        "# I realize that this is not based on movie_embeddings, but I ran out of time. Bear with me :'("
      ]
    }
  ],
  "metadata": {
    "kernelspec": {
      "display_name": "Python 3",
      "name": "python3"
    },
    "language_info": {
      "codemirror_mode": {
        "name": "ipython",
        "version": 3
      },
      "file_extension": ".py",
      "mimetype": "text/x-python",
      "name": "python",
      "nbconvert_exporter": "python",
      "pygments_lexer": "ipython3",
      "version": "3.9.16"
    },
    "varInspector": {
      "cols": {
        "lenName": 16,
        "lenType": 16,
        "lenVar": 40
      },
      "kernels_config": {
        "python": {
          "delete_cmd_postfix": "",
          "delete_cmd_prefix": "del ",
          "library": "var_list.py",
          "varRefreshCmd": "print(var_dic_list())"
        },
        "r": {
          "delete_cmd_postfix": ") ",
          "delete_cmd_prefix": "rm(",
          "library": "var_list.r",
          "varRefreshCmd": "cat(var_dic_list()) "
        }
      },
      "types_to_exclude": [
        "module",
        "function",
        "builtin_function_or_method",
        "instance",
        "_Feature"
      ],
      "window_display": false
    },
    "colab": {
      "provenance": []
    }
  },
  "nbformat": 4,
  "nbformat_minor": 0
}